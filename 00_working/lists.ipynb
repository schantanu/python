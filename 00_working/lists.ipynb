{
 "cells": [
  {
   "cell_type": "code",
   "execution_count": 63,
   "metadata": {},
   "outputs": [
    {
     "name": "stdout",
     "output_type": "stream",
     "text": [
      "['History', 'Math', 'Physics', 'CompSci']\n",
      "4\n",
      "History\n",
      "CompSci\n",
      "CompSci\n",
      "['History', 'Math']\n",
      "['History', 'Math']\n",
      "['Physics', 'CompSci']\n"
     ]
    }
   ],
   "source": [
    "courses = [\"History\",\"Math\",\"Physics\",\"CompSci\"]\n",
    "\n",
    "print(courses)\n",
    "print(len(courses))\n",
    "print(courses[0])\n",
    "# print(courses[4])       # IndexError\n",
    "print(courses[3])           # Access last value\n",
    "print(courses[-1])          # Access last value\n",
    "\n",
    "print(courses[0:2])         # First: Inclusive, Second: Exclusive\n",
    "print(courses[:2])\n",
    "print(courses[2:])\n"
   ]
  },
  {
   "cell_type": "code",
   "execution_count": 64,
   "metadata": {},
   "outputs": [
    {
     "name": "stdout",
     "output_type": "stream",
     "text": [
      "['Art', 'History', 'Math', 'Physics', 'CompSci', 'Art', ['Calculus', 'Physical Ed'], 'Calculus', 'Physical Ed']\n",
      "['History', 'Math', 'Physics', 'CompSci', 'Art', ['Calculus', 'Physical Ed'], 'Calculus']\n"
     ]
    }
   ],
   "source": [
    "# Add\n",
    "courses = [\"History\",\"Math\",\"Physics\",\"CompSci\"]\n",
    "courses_new = [\"Calculus\",\"Physical Ed\"]\n",
    "\n",
    "courses.append(\"Art\")               # Insert at the end\n",
    "courses.insert(0,\"Art\")             # Insert at a specific location\n",
    "\n",
    "courses.append(courses_new)         # Append adds a list within a list\n",
    "courses.extend(courses_new)         # Extends adds to the list\n",
    "\n",
    "print(courses)\n",
    "\n",
    "# Remove\n",
    "courses.remove(\"Art\")               # Removes the first element that it encounters from left\n",
    "courses.pop()                       # Removes the last element\n",
    "print(courses)\n",
    "\n",
    "# popped = []\n",
    "# for i in courses:\n",
    "#     popped = courses.pop()\n",
    "#     print(popped)\n",
    "# print(popped)"
   ]
  },
  {
   "cell_type": "code",
   "execution_count": 65,
   "metadata": {},
   "outputs": [
    {
     "name": "stdout",
     "output_type": "stream",
     "text": [
      "['History', 'Math', 'Physics', 'CompSci']\n",
      "4\n",
      "3\n",
      "['CompSci', 'Physics']\n",
      "5\n",
      "4\n",
      "3\n",
      "2\n",
      "1\n",
      "['Calculus', 'CompSci', 'Physics', 'Math', 'History']\n"
     ]
    }
   ],
   "source": [
    "courses = [\"History\",\"Math\",\"Physics\",\"CompSci\",\"Calculus\"]\n",
    "popped = courses.pop()              # Store value of what was popped\n",
    "print(courses)\n",
    "\n",
    "# Store popped values\n",
    "popped = []\n",
    "for course in courses:\n",
    "    print(len(courses))\n",
    "    popped.append(courses.pop())\n",
    "print(popped)                       # length of the courses list decreases during the iteration,\n",
    "                                    # causing the loop to terminate early.\n",
    "\n",
    "courses = [\"History\",\"Math\",\"Physics\",\"CompSci\",\"Calculus\"]\n",
    "\n",
    "# Store popped values\n",
    "# Use while to store all popped items\n",
    "popped = []\n",
    "while courses:\n",
    "    print(len(courses))\n",
    "    popped.append(courses.pop())\n",
    "print(popped)"
   ]
  },
  {
   "cell_type": "code",
   "execution_count": 66,
   "metadata": {},
   "outputs": [
    {
     "name": "stdout",
     "output_type": "stream",
     "text": [
      "['Calculus', 'CompSci', 'History', 'Math', 'Physics']\n",
      "[1, 2, 3, 4, 5, 6]\n",
      "None\n",
      "['Physics', 'Math', 'History', 'CompSci', 'Calculus']\n",
      "[6, 5, 4, 3, 2, 1]\n",
      "[1, 2, 3, 4, 5, 6]\n",
      "[1, 4, 2, 3, 6, 5]\n"
     ]
    }
   ],
   "source": [
    "courses = [\"History\",\"Math\",\"Physics\",\"CompSci\",\"Calculus\"]\n",
    "nums = [1, 4, 2, 3, 6, 5]\n",
    "\n",
    "# Sort\n",
    "# Alters the list inplace\n",
    "courses.sort()\n",
    "nums.sort()\n",
    "print(courses)\n",
    "print(nums)\n",
    "\n",
    "# Following will return None, as we are sorting the list in place\n",
    "print(courses.sort())\n",
    "\n",
    "# Sort in reverse\n",
    "courses.sort(reverse=True)\n",
    "nums.sort(reverse=True)\n",
    "print(courses)\n",
    "print(nums)\n",
    "\n",
    "# Get a sorted version of our list, without ordering our original list\n",
    "# sorted(courses)\n",
    "nums = [1, 4, 2, 3, 6, 5]\n",
    "print(sorted(nums))\n",
    "print(nums)"
   ]
  },
  {
   "cell_type": "code",
   "execution_count": 67,
   "metadata": {},
   "outputs": [
    {
     "name": "stdout",
     "output_type": "stream",
     "text": [
      "1\n",
      "6\n",
      "21\n"
     ]
    }
   ],
   "source": [
    "nums = [1, 4, 2, 3, 6, 5]\n",
    "\n",
    "print(min(nums))        # Get min\n",
    "print(max(nums))        # Get max\n",
    "print(sum(nums))        # Get addition"
   ]
  },
  {
   "cell_type": "code",
   "execution_count": 68,
   "metadata": {},
   "outputs": [
    {
     "name": "stdout",
     "output_type": "stream",
     "text": [
      "4\n",
      "0\n",
      "True\n",
      "True\n"
     ]
    }
   ],
   "source": [
    "courses = [\"Art\",\"History\",\"Math\",\"Physics\",\"CompSci\",\"Calculus\",\"Art\"]\n",
    "\n",
    "print(courses.index(\"CompSci\"))\n",
    "# print(courses.index(\"Civics\"))          # ValueError\n",
    "print(courses.index(\"Art\"))                 # Returns the first occurence\n",
    "\n",
    "print(\"Math\" in courses)\n",
    "print(\"Art\" in courses)\n",
    "\n"
   ]
  },
  {
   "cell_type": "code",
   "execution_count": 69,
   "metadata": {},
   "outputs": [
    {
     "name": "stdout",
     "output_type": "stream",
     "text": [
      "Art\n",
      "History\n",
      "Math\n",
      "Physics\n",
      "CompSci\n",
      "Calculus\n",
      "0 Art\n",
      "1 History\n",
      "2 Math\n",
      "3 Physics\n",
      "4 CompSci\n",
      "5 Calculus\n",
      "100 Art\n",
      "101 History\n",
      "102 Math\n",
      "103 Physics\n",
      "104 CompSci\n",
      "105 Calculus\n"
     ]
    }
   ],
   "source": [
    "courses = [\"Art\",\"History\",\"Math\",\"Physics\",\"CompSci\",\"Calculus\"]\n",
    "\n",
    "# Loop through a list\n",
    "for course in courses:\n",
    "    print(course)\n",
    "\n",
    "# Access index with enumerate\n",
    "for i, course in enumerate(courses):\n",
    "    print(i, course)\n",
    "\n",
    "# Change start value of index\n",
    "for i, course in enumerate(courses, start=100):\n",
    "    print(i, course)"
   ]
  },
  {
   "cell_type": "code",
   "execution_count": 70,
   "metadata": {},
   "outputs": [
    {
     "name": "stdout",
     "output_type": "stream",
     "text": [
      "Art-History-Math-Physics\n",
      "['Art', 'History', 'Math', 'Physics']\n"
     ]
    }
   ],
   "source": [
    "courses = [\"Art\",\"History\",\"Math\",\"Physics\"]\n",
    "\n",
    "# Convert a list to string\n",
    "course_str = \"-\".join(courses)\n",
    "print(course_str)\n",
    "\n",
    "# Convert a string to list\n",
    "my_str = \"Art-History-Math-Physics\"\n",
    "my_list = my_str.split(\"-\")\n",
    "print(my_list)"
   ]
  },
  {
   "cell_type": "markdown",
   "metadata": {},
   "source": [
    "## Tuples"
   ]
  },
  {
   "cell_type": "code",
   "execution_count": 74,
   "metadata": {},
   "outputs": [
    {
     "name": "stdout",
     "output_type": "stream",
     "text": [
      "['Art', 'History', 'Math', 'Physics']\n",
      "['Art', 'History', 'Math', 'Physics']\n",
      "['Civics', 'History', 'Math', 'Physics']\n",
      "['Civics', 'History', 'Math', 'Physics']\n",
      "('Art', 'History', 'Math', 'Physics')\n",
      "('Art', 'History', 'Math', 'Physics')\n"
     ]
    },
    {
     "ename": "TypeError",
     "evalue": "'tuple' object does not support item assignment",
     "output_type": "error",
     "traceback": [
      "\u001b[0;31m---------------------------------------------------------------------------\u001b[0m",
      "\u001b[0;31mTypeError\u001b[0m                                 Traceback (most recent call last)",
      "Cell \u001b[0;32mIn[74], line 23\u001b[0m\n\u001b[1;32m     20\u001b[0m \u001b[38;5;28mprint\u001b[39m(tuple_1)\n\u001b[1;32m     21\u001b[0m \u001b[38;5;28mprint\u001b[39m(tuple_2)\n\u001b[0;32m---> 23\u001b[0m \u001b[43mtuple_1\u001b[49m\u001b[43m[\u001b[49m\u001b[38;5;241;43m0\u001b[39;49m\u001b[43m]\u001b[49m \u001b[38;5;241m=\u001b[39m \u001b[38;5;124m\"\u001b[39m\u001b[38;5;124mCivics\u001b[39m\u001b[38;5;124m\"\u001b[39m\n",
      "\u001b[0;31mTypeError\u001b[0m: 'tuple' object does not support item assignment"
     ]
    }
   ],
   "source": [
    "# Lists are mutable\n",
    "# Tuples are immutable\n",
    "\n",
    "list_1 = [\"Art\",\"History\",\"Math\",\"Physics\"]\n",
    "list_2 = list_1\n",
    "\n",
    "print(list_1)\n",
    "print(list_2)\n",
    "\n",
    "# Following will change the value of both lists, as they are the same object\n",
    "list_1[0]=\"Civics\"\n",
    "\n",
    "print(list_1)\n",
    "print(list_2)\n",
    "\n",
    "# Immutable with tuple\n",
    "tuple_1 = (\"Art\",\"History\",\"Math\",\"Physics\")\n",
    "tuple_2 = tuple_1\n",
    "\n",
    "print(tuple_1)\n",
    "print(tuple_2)\n",
    "\n",
    "# tuple_1[0] = \"Civics\"       # Type Error, object does not support item assignment"
   ]
  },
  {
   "cell_type": "code",
   "execution_count": 80,
   "metadata": {},
   "outputs": [
    {
     "name": "stdout",
     "output_type": "stream",
     "text": [
      "{'CompSci', 'Physics', 'Math', 'History'}\n",
      "{'CompSci', 'Physics', 'Math', 'History'}\n",
      "True\n"
     ]
    }
   ],
   "source": [
    "# Sets\n",
    "# Values are unordered, and have no duplicates\n",
    "\n",
    "cs_courses = {\"History\",\"Math\",\"Physics\",\"CompSci\"}\n",
    "print(cs_courses)           # Prints without any order\n",
    "\n",
    "cs_courses = {\"History\",\"Math\",\"Physics\",\"CompSci\",\"Math\"}\n",
    "print(cs_courses)               # Returns without any duplicates\n",
    "\n",
    "# We can do the following with tuples and lists, but sets are optimized for this\n",
    "print(\"Math\" in cs_courses)"
   ]
  },
  {
   "cell_type": "code",
   "execution_count": 83,
   "metadata": {},
   "outputs": [
    {
     "name": "stdout",
     "output_type": "stream",
     "text": [
      "{'Math', 'History'}\n",
      "{'CompSci', 'Physics'}\n",
      "{'Math', 'History', 'Art', 'CompSci', 'Design', 'Physics'}\n"
     ]
    }
   ],
   "source": [
    "# Set methods\n",
    "\n",
    "cs_courses = {\"History\",\"Math\",\"Physics\",\"CompSci\"}\n",
    "art_courses = {\"History\",\"Math\",\"Art\",\"Design\"}\n",
    "\n",
    "print(cs_courses.intersection(art_courses))\n",
    "print(cs_courses.difference(art_courses))\n",
    "print(cs_courses.union(art_courses))"
   ]
  },
  {
   "cell_type": "code",
   "execution_count": null,
   "metadata": {},
   "outputs": [],
   "source": [
    "empty_list = []\n",
    "empty_list = list()\n",
    "\n",
    "empty_tuple = ()\n",
    "empty_tupe = tuple()\n",
    "\n",
    "empty_set = {}              # This will create an empty dictionary\n",
    "empty_set = set()"
   ]
  }
 ],
 "metadata": {
  "kernelspec": {
   "display_name": "Python 3",
   "language": "python",
   "name": "python3"
  },
  "language_info": {
   "codemirror_mode": {
    "name": "ipython",
    "version": 3
   },
   "file_extension": ".py",
   "mimetype": "text/x-python",
   "name": "python",
   "nbconvert_exporter": "python",
   "pygments_lexer": "ipython3",
   "version": "3.12.1"
  }
 },
 "nbformat": 4,
 "nbformat_minor": 2
}
