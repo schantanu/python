{
 "cells": [
  {
   "cell_type": "code",
   "execution_count": 1,
   "metadata": {},
   "outputs": [],
   "source": [
    "# Playlist\n",
    "# https://www.youtube.com/watch?v=ZDa-Z5JzLYM&list=PL-osiE80TeTsqhIuOqKhwlXsIBIdSeYtc\n",
    "\n",
    "# First Class Functions\n",
    "# https://www.youtube.com/watch?v=kr0mpwqttM0\n",
    "\n",
    "# Decorators\n",
    "# https://www.youtube.com/watch?v=FsAPt_9Bf3U"
   ]
  },
  {
   "cell_type": "markdown",
   "metadata": {},
   "source": [
    "## Object-Oriented Programming\n",
    "\n",
    "Class is a blueprint for creating instances of that class."
   ]
  },
  {
   "cell_type": "code",
   "execution_count": 2,
   "metadata": {},
   "outputs": [
    {
     "name": "stdout",
     "output_type": "stream",
     "text": [
      "<__main__.Employee object at 0x1035b7b00>\n",
      "<__main__.Employee object at 0x1035b7890>\n",
      "John.Smith@company.com\n",
      "Jason.Biggs@company.com\n"
     ]
    }
   ],
   "source": [
    "# Create an empty object\n",
    "class Employee:\n",
    "    pass\n",
    "\n",
    "emp_1 = Employee()\n",
    "emp_2 = Employee()\n",
    "\n",
    "print(emp_1)\n",
    "print(emp_2)\n",
    "\n",
    "emp_1.first = \"John\"\n",
    "emp_1.last = \"Smith\"\n",
    "emp_1.email = \"John.Smith@company.com\"\n",
    "emp_1.pay = 50000\n",
    "\n",
    "emp_2.first = \"Jason\"\n",
    "emp_2.last = \"Biggs\"\n",
    "emp_2.email = \"Jason.Biggs@company.com\"\n",
    "emp_2.pay = 60000\n",
    "\n",
    "print(emp_1.email)\n",
    "print(emp_2.email)"
   ]
  },
  {
   "cell_type": "markdown",
   "metadata": {},
   "source": [
    "## Init"
   ]
  },
  {
   "cell_type": "code",
   "execution_count": 3,
   "metadata": {},
   "outputs": [
    {
     "name": "stdout",
     "output_type": "stream",
     "text": [
      "Buddy\n"
     ]
    }
   ],
   "source": [
    "# The primary purpose of init is to initialize the attributes or properties of an object\n",
    "# It is also known as initializer or constructor method\n",
    "\n",
    "class Dog:\n",
    "    def __init__(self, name, age):\n",
    "        self.name = name\n",
    "        self.age = age\n",
    "\n",
    "# Creating an instance of the Dog class\n",
    "my_dog = Dog('Buddy', 3)\n",
    "print(my_dog.name)\n",
    "\n",
    "# Init can be used to set default values, perform setup tasks or validate input\n",
    "\n",
    "\n",
    "# '__init__' is a special method in Python classes\n",
    "# It is used to initialize object attributes\n",
    "# '__init__' is automatically called when you create a new instance of a class\n",
    "# It enables you to setup the object according to your specific requirements during the object's creation\n"
   ]
  },
  {
   "cell_type": "markdown",
   "metadata": {},
   "source": [
    "## Instances\n",
    "Contain data unique to an instance"
   ]
  },
  {
   "cell_type": "code",
   "execution_count": 4,
   "metadata": {},
   "outputs": [
    {
     "name": "stdout",
     "output_type": "stream",
     "text": [
      "John.Smith@company.com\n",
      "Jason.Biggs@company.com\n",
      "<bound method Employee.fullname of <__main__.Employee object at 0x1035b7f80>>\n",
      "John Smith\n",
      "Jason Biggs\n",
      "John Smith\n",
      "John Smith\n"
     ]
    }
   ],
   "source": [
    "class Employee:\n",
    "\n",
    "    def __init__(self, first, last, pay):\n",
    "\n",
    "        self.first = first\n",
    "        self.last = last\n",
    "        self.pay = pay\n",
    "        self.email = first + \".\" + last + \"@company.com\"\n",
    "\n",
    "    def fullname(self):\n",
    "        return f\"{self.first} {self.last}\"\n",
    "\n",
    "    # @staticmethod\n",
    "    # def hello_world():\n",
    "    #     return \"Hello, World!\"\n",
    "\n",
    "\n",
    "emp_1 = Employee(\"John\", \"Smith\", 50000)\n",
    "emp_2 = Employee(\"Jason\", \"Biggs\", 60000)\n",
    "\n",
    "print(emp_1.email)\n",
    "print(emp_2.email)\n",
    "\n",
    "# Make sure to add parenthesis since we are calling a method and not an attribute\n",
    "# In this case, without parenthesis, it will print the method and not the return value\n",
    "print(emp_1.fullname)\n",
    "\n",
    "print(emp_1.fullname())\n",
    "print(emp_2.fullname())\n",
    "\n",
    "# We can call the fullname method in two ways, with the second requiring mentioning\n",
    "# the instance we are referring to while calling it.\n",
    "\n",
    "print(emp_1.fullname())\n",
    "print(Employee.fullname(emp_1))"
   ]
  },
  {
   "cell_type": "markdown",
   "metadata": {},
   "source": [
    "## Class Variables\n",
    "\n",
    "Class variables are variables that can be used by all instances of a class. Class variables are also known as Attributes that are the instance variables of an Object."
   ]
  },
  {
   "cell_type": "code",
   "execution_count": 5,
   "metadata": {},
   "outputs": [
    {
     "name": "stdout",
     "output_type": "stream",
     "text": [
      "Old salary was 50000\n",
      "New salary is 52000\n",
      "Old salary was 52000\n",
      "New salary is 54080\n",
      "1.04\n",
      "1.04\n",
      "1.04\n",
      "{'first': 'John', 'last': 'Doe', 'pay': 54080, 'email': 'John.Doe@company.com'}\n",
      "{'__module__': '__main__', 'raise_amount': 1.04, '__init__': <function Employee.__init__ at 0x1036579c0>, 'fullname': <function Employee.fullname at 0x103657a60>, 'old_apply_raise': <function Employee.old_apply_raise at 0x103657b00>, 'apply_raise': <function Employee.apply_raise at 0x103657ba0>, '__dict__': <attribute '__dict__' of 'Employee' objects>, '__weakref__': <attribute '__weakref__' of 'Employee' objects>, '__doc__': None}\n",
      "1.05\n",
      "1.06\n",
      "1.05\n",
      "1.05\n",
      "{'first': 'John', 'last': 'Doe', 'pay': 54080, 'email': 'John.Doe@company.com', 'raise_amount': 1.06}\n"
     ]
    }
   ],
   "source": [
    "class Employee:\n",
    "\n",
    "    # Class variable\n",
    "    raise_amount = 1.04\n",
    "\n",
    "    def __init__(self, first, last, pay):\n",
    "        self.first = first\n",
    "        self.last = last\n",
    "        self.pay = pay\n",
    "        self.email = first + \".\" + last + \"@company.com\"\n",
    "\n",
    "    def fullname(self):\n",
    "        return f\"{self.first} {self.last}\"\n",
    "\n",
    "    def old_apply_raise(self):\n",
    "        # In this method we are defining the 'raise amount' in the method itself\n",
    "        # In case we need to update or customize that variable, we will need to do\n",
    "        # that in the method.\n",
    "        self.pay = int(self.pay * 1.04)\n",
    "\n",
    "    def apply_raise(self):\n",
    "        # In this method we are defining the 'raise amount' as a Class variable\n",
    "        # giving us a better way to access and update the amount and can be used\n",
    "        # elsewhere in the class.\n",
    "\n",
    "        self.pay = int(self.pay * self.raise_amount)\n",
    "\n",
    "        # We can access the Class variable using the following method as well\n",
    "        # self.pay = int(self.pay * Employee.raise_amount)\n",
    "\n",
    "emp_1 = Employee(\"John\",\"Doe\",50000)\n",
    "emp_2 = Employee(\"Jason\",\"Smith\",60000)\n",
    "\n",
    "#\n",
    "print(f\"Old salary was {emp_1.pay}\")\n",
    "emp_1.old_apply_raise()\n",
    "print(f\"New salary is {emp_1.pay}\")\n",
    "\n",
    "#\n",
    "print(f\"Old salary was {emp_1.pay}\")\n",
    "emp_1.apply_raise()\n",
    "print(f\"New salary is {emp_1.pay}\")\n",
    "\n",
    "# Accessing the Class variable from Class and from the instances\n",
    "print(Employee.raise_amount)\n",
    "print(emp_1.raise_amount)\n",
    "print(emp_2.raise_amount)\n",
    "\n",
    "# Accessing the name spaces of an instance vs Class makes it clear which\n",
    "# way is better for accessing the Class variable\n",
    "print(emp_1.__dict__)\n",
    "print(Employee.__dict__)\n",
    "\n",
    "# We can definitely update the amount via the Class itself\n",
    "Employee.raise_amount = 1.05\n",
    "print(Employee.raise_amount)\n",
    "\n",
    "# We are unable to update the variable via using a class instance for the entire Class,\n",
    "# but we can update the variable for the specific instance\n",
    "emp_1.raise_amount = 1.06\n",
    "print(emp_1.raise_amount)\n",
    "\n",
    "print(Employee.raise_amount)\n",
    "print(emp_2.raise_amount)\n",
    "\n",
    "# Also now the variable is visible in the instance namespace\n",
    "print(emp_1.__dict__)"
   ]
  },
  {
   "cell_type": "code",
   "execution_count": 6,
   "metadata": {},
   "outputs": [
    {
     "name": "stdout",
     "output_type": "stream",
     "text": [
      "0\n",
      "2\n"
     ]
    }
   ],
   "source": [
    "class Employee:\n",
    "\n",
    "    num_of_emps = 0\n",
    "\n",
    "    def __init__(self, first, last):\n",
    "        self.first = first\n",
    "        self.last = last\n",
    "\n",
    "        Employee.num_of_emps += 1\n",
    "\n",
    "# Employee count is zero\n",
    "print(Employee.num_of_emps)\n",
    "\n",
    "# Instantiating two employees\n",
    "emp_1 = Employee(\"John\",\"Doe\")\n",
    "emp_2 = Employee(\"Jason\",\"Smith\")\n",
    "\n",
    "# Employee count has been updated\n",
    "print(Employee.num_of_emps)"
   ]
  },
  {
   "cell_type": "markdown",
   "metadata": {},
   "source": [
    "## Class Methods"
   ]
  },
  {
   "cell_type": "code",
   "execution_count": 7,
   "metadata": {},
   "outputs": [
    {
     "name": "stdout",
     "output_type": "stream",
     "text": [
      "1.04\n",
      "1.04\n",
      "1.04\n",
      "\n",
      "\n",
      "1.05\n",
      "1.05\n",
      "1.05\n",
      "\n",
      "\n",
      "1.06\n",
      "1.06\n",
      "1.06\n"
     ]
    }
   ],
   "source": [
    "class Employee:\n",
    "\n",
    "    num_of_emps = 0\n",
    "    raise_amt = 1.04\n",
    "\n",
    "    def __init__(self, first, last, pay):\n",
    "        self.first = first\n",
    "        self.last = last\n",
    "        self.pay = pay\n",
    "\n",
    "        Employee.num_of_emps += 1\n",
    "\n",
    "    def fullname(self):\n",
    "        return f\"{self.first} {self.last}\"\n",
    "\n",
    "    def apply_raise(self):\n",
    "        self.pay = int(self.pay * self.raise_amt)\n",
    "\n",
    "    @classmethod\n",
    "    def set_raise_amt(cls, amount):\n",
    "        cls.raise_amt = amount\n",
    "\n",
    "emp_1 = Employee(\"John\",\"Doe\",50000)\n",
    "emp_2 = Employee(\"Jason\",\"Smith\",60000)\n",
    "\n",
    "# Let's check the initial raise_amt\n",
    "print(Employee.raise_amt)\n",
    "print(emp_1.raise_amt)\n",
    "print(emp_2.raise_amt)\n",
    "print('\\n')\n",
    "\n",
    "# In the previous tutorial, we updated the raise_amt using assignment\n",
    "# Employee.raise_amt = 1.05\n",
    "\n",
    "# We can achieve the same result using a classmethod\n",
    "Employee.set_raise_amt(1.05)\n",
    "\n",
    "print(Employee.raise_amt)\n",
    "print(emp_1.raise_amt)\n",
    "print(emp_2.raise_amt)\n",
    "print('\\n')\n",
    "\n",
    "# In the previous tutorials, when we updated the raise_amt from an instance\n",
    "# only the raise_amt for that instance would have been updated. But with the\n",
    "# classmethod, we can update the raise_amt using an instance as well\n",
    "\n",
    "emp_1.set_raise_amt(1.06)\n",
    "\n",
    "print(Employee.raise_amt)\n",
    "print(emp_1.raise_amt)\n",
    "print(emp_2.raise_amt)"
   ]
  },
  {
   "cell_type": "code",
   "execution_count": 8,
   "metadata": {},
   "outputs": [
    {
     "name": "stdout",
     "output_type": "stream",
     "text": [
      "John\n",
      "Smith\n",
      "90000\n"
     ]
    }
   ],
   "source": [
    "class Employee:\n",
    "\n",
    "    def __init__(self, first, last, pay):\n",
    "        self.first = first\n",
    "        self.last = last\n",
    "        self.pay = pay\n",
    "\n",
    "    def fullname(self):\n",
    "        return f\"{self.first} {self.last}\"\n",
    "\n",
    "    @classmethod\n",
    "    def split_str(cls, emp_str):\n",
    "        first, last, pay = emp_str.split(\"-\")\n",
    "        return cls(first, last, pay)\n",
    "\n",
    "emp_str_1 = Employee.split_str(\"John-Doe-70000\")\n",
    "emp_str_2 = Employee.split_str(\"Steven-Smith-30000\")\n",
    "emp_str_3 = Employee.split_str(\"Jane-Doe-90000\")\n",
    "\n",
    "print(emp_str_1.first)\n",
    "print(emp_str_2.last)\n",
    "print(emp_str_3.pay)"
   ]
  }
 ],
 "metadata": {
  "kernelspec": {
   "display_name": "Python 3",
   "language": "python",
   "name": "python3"
  },
  "language_info": {
   "codemirror_mode": {
    "name": "ipython",
    "version": 3
   },
   "file_extension": ".py",
   "mimetype": "text/x-python",
   "name": "python",
   "nbconvert_exporter": "python",
   "pygments_lexer": "ipython3",
   "version": "3.12.1"
  }
 },
 "nbformat": 4,
 "nbformat_minor": 2
}
