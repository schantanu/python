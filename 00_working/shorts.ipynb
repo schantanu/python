{
 "cells": [
  {
   "cell_type": "code",
   "execution_count": null,
   "metadata": {},
   "outputs": [],
   "source": [
    "# Python libraries to explore\n",
    "# 1. pydantic\n",
    "# 2. ruff   (linting)\n",
    "# 3. mypy   (static type checker)\n",
    "# 4. uv     (pip replacement)\n",
    "# 5. docker\n",
    "\n",
    "# VS Code extensions\n",
    "# 1. gitlens\n",
    "# 2. prettier\n",
    "# 3. remote - SSH\n",
    "# 4. Intellicode\n",
    "# 5. Restore terminals\n",
    "\n",
    "# Why is Python slow\n",
    "# Code is executed line by line instead of translating it to machine code before executing\n",
    "# Dynamically typed, types at runtime instead of compile"
   ]
  },
  {
   "cell_type": "code",
   "execution_count": 1,
   "metadata": {},
   "outputs": [
    {
     "name": "stdout",
     "output_type": "stream",
     "text": [
      "20\n"
     ]
    }
   ],
   "source": [
    "import math\n",
    "\n",
    "# If player can pick only 3 skills, find all possible variations\n",
    "skills = [\"Farming\", \"Mining\", \"Crafting\", \"Melee\", \"Archery\", \"Alchemy\"]\n",
    "\n",
    "num_skills = len(skills)\n",
    "variations = math.comb(num_skills, 3)\n",
    "print(variations)"
   ]
  },
  {
   "cell_type": "code",
   "execution_count": 4,
   "metadata": {},
   "outputs": [
    {
     "name": "stdout",
     "output_type": "stream",
     "text": [
      "[(1, 'A'), (2, 'B')]\n",
      "[(1, 'A'), (2, 'B'), (None, 'C'), (None, 'D')]\n"
     ]
    }
   ],
   "source": [
    "# zip function\n",
    "# syntax - zip(iterables)\n",
    "names = [\"Mike\",\"Sam\",\"James\"]\n",
    "age = [28, 27, 26]\n",
    "\n",
    "zipped = zip(names, age)\n",
    "print(list(zipped))\n",
    "\n",
    "elems = [\"A\",\"B\",\"C\",\"D\"]\n",
    "numbers = [1, 2]\n",
    "\n",
    "zipped = zip(numbers, elems)        # Zip object\n",
    "print(list(zipped))                 # Convert zip object to list\n",
    "# Only zips two elements\n",
    "# [(1, 'A'), (2, 'B')]\n",
    "\n",
    "# Zip all\n",
    "from itertools import zip_longest\n",
    "\n",
    "zipped = zip_longest(numbers, elems)\n",
    "print(list(zipped))\n",
    "# Zips all\n",
    "# [(1, 'A'), (2, 'B'), (None, 'C'), (None, 'D')]"
   ]
  },
  {
   "cell_type": "code",
   "execution_count": 5,
   "metadata": {},
   "outputs": [
    {
     "name": "stdout",
     "output_type": "stream",
     "text": [
      "Default: None\n",
      "Number: 20.0\n",
      "String: Hello\n"
     ]
    }
   ],
   "source": [
    "# How to get a single function to accept multiple data types\n",
    "from functools import singledispatch\n",
    "\n",
    "@singledispatch\n",
    "def func(arg):\n",
    "    print(f\"Default: {arg}\")\n",
    "\n",
    "@func.register\n",
    "def _(arg: int | float):\n",
    "    print(f\"Number: {arg}\")\n",
    "\n",
    "@func.register\n",
    "def _(arg: str):\n",
    "    print(f\"String: {arg}\")\n",
    "\n",
    "func(None)\n",
    "func(20.0)\n",
    "func(\"Hello\")"
   ]
  },
  {
   "cell_type": "code",
   "execution_count": 10,
   "metadata": {},
   "outputs": [
    {
     "name": "stdout",
     "output_type": "stream",
     "text": [
      "<class 'tuple'>\n",
      "<class 'float'>\n",
      "<class 'tuple'>\n"
     ]
    }
   ],
   "source": [
    "# Creating a tuple is based on the comma, and not the parenthesis\n",
    "coords = (2.5, 1.0)\n",
    "print(type(coords))     # tuple\n",
    "\n",
    "coords = (2.5)\n",
    "print(type(coords))     # float\n",
    "\n",
    "coords = 2.5, 1.0\n",
    "print(type(coords))     # tuple"
   ]
  },
  {
   "cell_type": "code",
   "execution_count": 11,
   "metadata": {},
   "outputs": [
    {
     "name": "stdout",
     "output_type": "stream",
     "text": [
      "['Sword', 'Torch', 'Rock', 'Potion', 'Shield']\n"
     ]
    }
   ],
   "source": [
    "# How to move an item to the first of the list\n",
    "hotbar = [\"Torch\",\"Rock\",\"Potion\",\"Sword\",\"Shield\"]\n",
    "\n",
    "index = hotbar.index(\"Sword\")\n",
    "item = hotbar.pop(index)\n",
    "hotbar.insert(0, item)\n",
    "\n",
    "print(hotbar)\n"
   ]
  },
  {
   "cell_type": "code",
   "execution_count": 18,
   "metadata": {},
   "outputs": [
    {
     "name": "stdout",
     "output_type": "stream",
     "text": [
      "['c', 'a', 'b']\n",
      "['a', 'b', 'c']\n",
      "{'a': None, 'b': None, 'c': None}\n",
      "['a', 'b', 'c']\n"
     ]
    }
   ],
   "source": [
    "# How to remove duplicates while maintaining order\n",
    "old = [\"a\",\"b\",\"a\",\"c\",\"b\",\"a\"]\n",
    "\n",
    "# Using set, but no ordering\n",
    "new = list(set(old))\n",
    "print(new)\n",
    "\n",
    "# Using loop\n",
    "new = []\n",
    "for item in old:\n",
    "    if item not in new:\n",
    "        new.append(item)\n",
    "print(new)\n",
    "\n",
    "# Using dictionary and converting it to keys\n",
    "new = dict.fromkeys(old)\n",
    "print(new)\n",
    "\n",
    "new = list(dict.fromkeys(old).keys())\n",
    "print(new)"
   ]
  },
  {
   "cell_type": "code",
   "execution_count": 22,
   "metadata": {},
   "outputs": [
    {
     "name": "stdout",
     "output_type": "stream",
     "text": [
      "['A', 'B', 'C', 'D']\n",
      "A, B, C, D.\n"
     ]
    }
   ],
   "source": [
    "# Style an iterable\n",
    "mylist = [\"A\",\"B\",\"C\",\"D\"]\n",
    "\n",
    "print(mylist)\n",
    "print(*mylist, sep=\", \",end=\".\\n\")"
   ]
  },
  {
   "cell_type": "code",
   "execution_count": 26,
   "metadata": {},
   "outputs": [
    {
     "name": "stdout",
     "output_type": "stream",
     "text": [
      "15:35:32\n",
      "15:35:32\n"
     ]
    }
   ],
   "source": [
    "# IIFE (Immediately Invoked Function Expression)\n",
    "from datetime import datetime\n",
    "import time\n",
    "\n",
    "@lambda _: _()\n",
    "def start_time() -> str:\n",
    "    date = datetime.now()\n",
    "    return f\"{date:%T}\"\n",
    "\n",
    "print(start_time)\n",
    "time.sleep(5)\n",
    "print(start_time)   # Returns the same time as above"
   ]
  },
  {
   "cell_type": "code",
   "execution_count": 27,
   "metadata": {},
   "outputs": [
    {
     "name": "stdout",
     "output_type": "stream",
     "text": [
      "['a', 'a', 'a', 'c', 'c', 'b', 'b']\n"
     ]
    }
   ],
   "source": [
    "# Arrange random in a list in the order they are in\n",
    "\n",
    "from collections import Counter\n",
    "\n",
    "mylist = [\"a\",\"c\",\"a\",\"b\",\"b\",\"a\",\"c\"]\n",
    "result = list(Counter(mylist).elements())\n",
    "print(result)"
   ]
  },
  {
   "cell_type": "code",
   "execution_count": 30,
   "metadata": {},
   "outputs": [
    {
     "name": "stdout",
     "output_type": "stream",
     "text": [
      "3\n"
     ]
    }
   ],
   "source": [
    "# Python carets are BITWISE (XOR) operators\n",
    "\n",
    "# 0^0   - 0\n",
    "# 1^1   - 0\n",
    "# 1^0   - 1\n",
    "# 0^1   - 1\n",
    "# 8^3   - 11\n",
    "\n",
    "# A: 4\n",
    "# B: 0\n",
    "# C: Error\n",
    "# D: 1\n",
    "# E: 3\n",
    "\n",
    "x = \"b001\"\n",
    "y = [x.find(\"0\")]   # [1]\n",
    "z = len(y)^2        # 1^2 = 3"
   ]
  },
  {
   "cell_type": "code",
   "execution_count": 39,
   "metadata": {},
   "outputs": [
    {
     "name": "stdout",
     "output_type": "stream",
     "text": [
      "a:1, b:2, c:3\n",
      "x: 1           , type:<class 'int'>\n",
      "y: [2, 3, 4, 5], type:<class 'list'>\n"
     ]
    }
   ],
   "source": [
    "# Unpacking\n",
    "\n",
    "point = (1, 2, 3)\n",
    "a, b, c = point\n",
    "print(f\"a:{a}, b:{b}, c:{c}\")\n",
    "\n",
    "# Following will give an error\n",
    "# point = (1, 2, 3, 4, 5)\n",
    "# a, b, c = point\n",
    "# print(f\"a:{a}, b:{b}, c:{c}\")\n",
    "\n",
    "num_list = [1, 2, 3, 4, 5]\n",
    "x, *y = num_list\n",
    "print(f\"x: {x:<12}, type:{type(x)}\")\n",
    "print(f\"y: {y}, type:{type(y)}\")\n"
   ]
  },
  {
   "cell_type": "code",
   "execution_count": 45,
   "metadata": {},
   "outputs": [
    {
     "name": "stdout",
     "output_type": "stream",
     "text": [
      "Level 3\n",
      "Level 1\n",
      "Level 0\n"
     ]
    }
   ],
   "source": [
    "p1 = {\"xp\":3976, \"level\":3}\n",
    "p2 = {\"xp\":1123, \"level\":1}\n",
    "p3 = {\"xp\":0}\n",
    "player_db = [p1, p2, p3]\n",
    "\n",
    "for p in player_db:\n",
    "    # print(f\"Level {p[\"level\"]}\")        # Will throw an error\n",
    "    print(f\"Level {p.get(\"level\")}\")"
   ]
  },
  {
   "cell_type": "code",
   "execution_count": 49,
   "metadata": {},
   "outputs": [
    {
     "name": "stdout",
     "output_type": "stream",
     "text": [
      "{'Sword': 2, 'Shield': 1, 'Potion': 5}\n"
     ]
    }
   ],
   "source": [
    "# Aggregate two dict\n",
    "inv = {\"Sword\":1, \"Potion\":3}\n",
    "loot = {\"Sword\": 1, \"Potion\": 2, \"Shield\": 1}\n",
    "\n",
    "new_inv = {\n",
    "    k: inv.get(k, 0) + loot.get(k, 0) \\\n",
    "    for k in set(inv | loot)\n",
    "}\n",
    "print(new_inv)"
   ]
  },
  {
   "cell_type": "code",
   "execution_count": 54,
   "metadata": {},
   "outputs": [
    {
     "name": "stdout",
     "output_type": "stream",
     "text": [
      "Must be a valid quantity\n",
      "1045.7\n"
     ]
    }
   ],
   "source": [
    "balance = 945.70\n",
    "\n",
    "# Basic input will have many issues like ValueError, TypeError, etc.\n",
    "# num = input(\"Deposit:\")\n",
    "\n",
    "while True:\n",
    "    try:\n",
    "        num = float(input(\"Deposit:\"))\n",
    "        break\n",
    "    except ValueError:\n",
    "        print(\"Must be a valid quantity\")\n",
    "\n",
    "balance += num\n",
    "print(balance)"
   ]
  },
  {
   "cell_type": "code",
   "execution_count": 57,
   "metadata": {},
   "outputs": [
    {
     "name": "stdout",
     "output_type": "stream",
     "text": [
      "6\n",
      "2\n"
     ]
    }
   ],
   "source": [
    "# Find elements with the most occurences\n",
    "\n",
    "x = [1, 2, 2, 3, 5, 6, 2, 3, 4, 2]\n",
    "print(max(x))       # Only returns max integer value\n",
    "\n",
    "y = max(x, key=x.count)\n",
    "print(y)            # Returns 2"
   ]
  },
  {
   "cell_type": "code",
   "execution_count": 59,
   "metadata": {},
   "outputs": [
    {
     "name": "stdout",
     "output_type": "stream",
     "text": [
      "{'Mike': 2, 'Same': 1, 'Jason': 1, 'Sam': 2, 'Robert': 1}\n",
      "Counter({'Mike': 2, 'Sam': 2, 'Same': 1, 'Jason': 1, 'Robert': 1})\n"
     ]
    }
   ],
   "source": [
    "employees = [\"Mike\",\"Same\",\"Jason\",\"Sam\",\"Robert\",\"Mike\",\"Sam\"]\n",
    "\n",
    "# Method 1 - O(n2)\n",
    "count = { employee: employees.count(employee)\n",
    "         for employee in employees\n",
    "        }\n",
    "print(count)\n",
    "\n",
    "# Method 2\n",
    "from collections import Counter\n",
    "count = Counter(employees)\n",
    "print(count)"
   ]
  },
  {
   "cell_type": "code",
   "execution_count": 64,
   "metadata": {},
   "outputs": [
    {
     "name": "stdout",
     "output_type": "stream",
     "text": [
      "<class 'str'>\n",
      "<class 'int'>\n",
      "<class 'float'>\n",
      "<class 'bool'>\n",
      "<class 'NoneType'>\n",
      "<class 'list'>\n",
      "<class 'tuple'>\n",
      "<class 'dict'>\n"
     ]
    }
   ],
   "source": [
    "name = \"Adam\"\n",
    "print(type(name))\n",
    "\n",
    "age = 21\n",
    "print(type(age))\n",
    "\n",
    "pi = 3.14\n",
    "print(type(pi))\n",
    "\n",
    "is_day = True\n",
    "print(type(is_day))\n",
    "\n",
    "balance = None\n",
    "print(type(balance))                            # NoneType class\n",
    "\n",
    "cars = [\"bmw\",\"lexus\",\"cadillac\"]\n",
    "print(type(cars))\n",
    "\n",
    "roles = (\"student\",\"teacher\",\"parent\")\n",
    "print(type(roles))\n",
    "\n",
    "spoon = {\"color\": \"black\", \"weight\": \"15grams\"}\n",
    "print(type(spoon))"
   ]
  },
  {
   "cell_type": "code",
   "execution_count": 66,
   "metadata": {},
   "outputs": [
    {
     "name": "stdout",
     "output_type": "stream",
     "text": [
      "5\n",
      "4\n",
      "3\n",
      "2\n",
      "1\n",
      "5\n",
      "4\n",
      "3\n",
      "2\n",
      "1\n"
     ]
    }
   ],
   "source": [
    "# print reversed\n",
    "numbers = [1, 2, 3, 4, 5]\n",
    "\n",
    "# Method 1\n",
    "for x in numbers[::-1]:\n",
    "    print(x)\n",
    "\n",
    "# Method 2\n",
    "for x in reversed(numbers):\n",
    "    print(x)"
   ]
  },
  {
   "cell_type": "code",
   "execution_count": 68,
   "metadata": {},
   "outputs": [
    {
     "name": "stdout",
     "output_type": "stream",
     "text": [
      "A ['Aaron', 'Aria']\n",
      "M ['Max', 'Mike']\n",
      "S ['Sam', 'Sarah']\n"
     ]
    }
   ],
   "source": [
    "from itertools import groupby\n",
    "employees = [\"Sam\", \"Max\", \"Sarah\", \"Aria\", \"Mike\", \"Aaron\"]\n",
    "\n",
    "employees.sort()\n",
    "employee_group = groupby(employees, key = lambda n: n[0])\n",
    "\n",
    "for key, group in employee_group:\n",
    "    print(key, list(group))"
   ]
  },
  {
   "cell_type": "code",
   "execution_count": 69,
   "metadata": {},
   "outputs": [
    {
     "name": "stdout",
     "output_type": "stream",
     "text": [
      "The battle is not over!\n"
     ]
    }
   ],
   "source": [
    "# any\n",
    "enemies = [\n",
    "    {\"type\":\"Orc\", \"health\":0},         # False\n",
    "    {\"type\":\"Orc\", \"health\":0},         # False\n",
    "    {\"type\":\"Orc\", \"health\":1},         # True\n",
    "    {\"type\":\"Orc\", \"health\":4},         # True\n",
    "]\n",
    "\n",
    "if any([enemy[\"health\"] for enemy in enemies]):\n",
    "    print(\"The battle is not over!\")\n",
    "else:\n",
    "    print(\"No more enemies remain!\")"
   ]
  },
  {
   "cell_type": "code",
   "execution_count": 72,
   "metadata": {},
   "outputs": [
    {
     "name": "stdout",
     "output_type": "stream",
     "text": [
      "3\n",
      "3\n"
     ]
    }
   ],
   "source": [
    "# lambda\n",
    "# Using func\n",
    "def add(x,y):\n",
    "    return x + y\n",
    "print(add(1, 2))\n",
    "\n",
    "# Using lambda\n",
    "print((lambda x,y: x+y)(1,2))"
   ]
  },
  {
   "cell_type": "code",
   "execution_count": 75,
   "metadata": {},
   "outputs": [
    {
     "name": "stdout",
     "output_type": "stream",
     "text": [
      "{'a': 1, 'b': 2, 'c': 3}\n",
      "<class 'dict'>\n",
      "230\n"
     ]
    }
   ],
   "source": [
    "# kwargs\n",
    "def func(**kwargs):\n",
    "    print(kwargs)\n",
    "    print(type(kwargs))     # returns a dict\n",
    "    return\n",
    "\n",
    "func(a=1,b=2,c=3)\n",
    "\n",
    "def func(**k):\n",
    "    ans = k[\"a\"] * k[\"b\"] + k[\"c\"]\n",
    "    print(ans)\n",
    "    return\n",
    "\n",
    "func(a=10,b=20,c=30)"
   ]
  },
  {
   "cell_type": "code",
   "execution_count": 78,
   "metadata": {},
   "outputs": [
    {
     "name": "stdout",
     "output_type": "stream",
     "text": [
      "Team A: 5.5 players\n",
      "Team B: 5.5 players\n"
     ]
    }
   ],
   "source": [
    "# How to use raise\n",
    "user_input = 11\n",
    "\n",
    "if user_input%2 == 1:\n",
    "    err = \"Must be even number of players!\"\n",
    "    raise Exception(err)                        # Raise allows you to force an error\n",
    "\n",
    "team_a_size = user_input/2\n",
    "team_b_size = team_a_size\n",
    "\n",
    "print(f\"Team A: {team_a_size} players\")\n",
    "print(f\"Team B: {team_b_size} players\")"
   ]
  },
  {
   "cell_type": "code",
   "execution_count": 80,
   "metadata": {},
   "outputs": [
    {
     "name": "stdout",
     "output_type": "stream",
     "text": [
      "Starting this!\n",
      "Did this!\n",
      "Starting that!\n",
      "Did that!\n",
      "Starting this!\n",
      "Starting that!\n"
     ]
    },
    {
     "name": "stdout",
     "output_type": "stream",
     "text": [
      "Did this!\n",
      "Did that!\n"
     ]
    }
   ],
   "source": [
    "import time\n",
    "from threading import Thread\n",
    "\n",
    "def do_this():\n",
    "    print(\"Starting this!\")\n",
    "    time.sleep(2)\n",
    "    print(\"Did this!\")\n",
    "\n",
    "def do_that():\n",
    "    print(\"Starting that!\")\n",
    "    time.sleep(2)\n",
    "    print(\"Did that!\")\n",
    "\n",
    "# Normal synchronous\n",
    "do_this()\n",
    "do_that()\n",
    "\n",
    "# Using threads for async\n",
    "t1 = Thread(target=do_this)\n",
    "t1.start()\n",
    "\n",
    "t2 = Thread(target=do_that)\n",
    "t2.start()"
   ]
  },
  {
   "cell_type": "code",
   "execution_count": 84,
   "metadata": {},
   "outputs": [
    {
     "name": "stdout",
     "output_type": "stream",
     "text": [
      "Running incremental\n",
      "2\n",
      "Running incremental\n",
      "3\n",
      "Running incremental\n",
      "4\n",
      "Running incremental\n",
      "2\n",
      "Running incremental\n",
      "2\n",
      "Running incremental\n",
      "3\n",
      "Running incremental\n",
      "4\n",
      "2\n"
     ]
    }
   ],
   "source": [
    "# LRUCache\n",
    "\n",
    "def increment(num):\n",
    "    print(\"Running incremental\")\n",
    "    return num+1\n",
    "\n",
    "print(increment(1))\n",
    "print(increment(2))\n",
    "print(increment(3))\n",
    "print(increment(1))\n",
    "\n",
    "from functools import lru_cache\n",
    "\n",
    "@lru_cache                                  #lru = last recently used\n",
    "def increment(num):\n",
    "    print(\"Running incremental\")\n",
    "    return num+1\n",
    "\n",
    "print(increment(1))\n",
    "print(increment(2))\n",
    "print(increment(3))\n",
    "print(increment(1))      # memorizes the inputs and outputs, and gives the output from memory"
   ]
  },
  {
   "cell_type": "code",
   "execution_count": 85,
   "metadata": {},
   "outputs": [
    {
     "name": "stdout",
     "output_type": "stream",
     "text": [
      "Bob Smith\n"
     ]
    }
   ],
   "source": [
    "first = \"bOB\"\n",
    "last = \"sMITH\"\n",
    "\n",
    "name = f\"{first} {last}\".title()        # title to adjust case\n",
    "print(name)"
   ]
  },
  {
   "cell_type": "code",
   "execution_count": 86,
   "metadata": {},
   "outputs": [
    {
     "name": "stdout",
     "output_type": "stream",
     "text": [
      "Running do_this\n",
      "Doing this\n",
      "Done\n",
      "Running do_that\n",
      "Doing that\n",
      "Done\n"
     ]
    }
   ],
   "source": [
    "# Decorators\n",
    "\n",
    "def my_decorator(func):\n",
    "    def wrapper():\n",
    "        print(f\"Running {func.__name__}\")\n",
    "        func()\n",
    "        print(\"Done\")\n",
    "    return wrapper\n",
    "\n",
    "@my_decorator\n",
    "def do_this():\n",
    "    print(\"Doing this\")\n",
    "\n",
    "@my_decorator\n",
    "def do_that():\n",
    "    print(\"Doing that\")\n",
    "\n",
    "do_this()\n",
    "do_that()"
   ]
  },
  {
   "cell_type": "code",
   "execution_count": 89,
   "metadata": {},
   "outputs": [
    {
     "name": "stdout",
     "output_type": "stream",
     "text": [
      "google.com\n",
      "ikipedia.com\n",
      "google.com\n",
      "wikipedia.com\n"
     ]
    }
   ],
   "source": [
    "links = [\"www.google.com\", \"www.wikipedia.com\"]\n",
    "\n",
    "for link in links:\n",
    "    print(link.lstrip(\"w.\"))        # Removes all w chars\n",
    "\n",
    "for link in links:\n",
    "    print(link.removeprefix(\"www.\"))"
   ]
  },
  {
   "cell_type": "code",
   "execution_count": 90,
   "metadata": {},
   "outputs": [
    {
     "name": "stdout",
     "output_type": "stream",
     "text": [
      "{'a': 1, 'b': 2, 'c': 3}\n",
      "Key: z does not exist\n"
     ]
    }
   ],
   "source": [
    "# Create custom dictionary\n",
    "class CustomDict(dict):\n",
    "    def __missing__(self, key):\n",
    "        return f\"Key: {key} does not exist\"\n",
    "\n",
    "data = {\"a\":1, \"b\":2, \"c\":3}\n",
    "cd = CustomDict(data)\n",
    "\n",
    "print(cd)\n",
    "print(cd[\"z\"])"
   ]
  },
  {
   "cell_type": "code",
   "execution_count": 94,
   "metadata": {},
   "outputs": [
    {
     "name": "stdout",
     "output_type": "stream",
     "text": [
      "Ham\n",
      "Page not found...\n"
     ]
    }
   ],
   "source": [
    "class Book:\n",
    "    def __init__(self, content):\n",
    "        self.content = content\n",
    "\n",
    "    def __getitem__(self, index):\n",
    "        try:\n",
    "            page = self.content[index]\n",
    "        except IndexError:\n",
    "            page = \"Page not found...\"\n",
    "\n",
    "        return page\n",
    "\n",
    "book = Book([\"Eggs\",\"Spam\",\"Ham\"])\n",
    "print(book[2])\n",
    "print(book[3])"
   ]
  },
  {
   "cell_type": "code",
   "execution_count": 96,
   "metadata": {},
   "outputs": [],
   "source": [
    "from typing import TypeAlias\n",
    "\n",
    "IntOrStr: TypeAlias = int | str\n",
    "Coordinate: TypeAlias = tuple[float, float]\n",
    "\n",
    "type IntOrStr = int | str\n",
    "type Coordinate = tuple[float, float]\n",
    "\n",
    "type FruitOrNone = Fruit | None\n"
   ]
  },
  {
   "cell_type": "code",
   "execution_count": 105,
   "metadata": {},
   "outputs": [
    {
     "name": "stdout",
     "output_type": "stream",
     "text": [
      "______________Python\n",
      "Python..............\n",
      "~~~~~~~Python~~~~~~~\n",
      "-------Python-------\n",
      "3\n"
     ]
    }
   ],
   "source": [
    "var: str = \"Python\"\n",
    "\n",
    "print(f\"{var:_>20}\")\n",
    "print(f\"{var:.<20}\")\n",
    "print(f\"{var:~^20}\")\n",
    "\n",
    "length: int = 20\n",
    "print(f\"{var:-^{length}}\")\n",
    "\n",
    "# Nested f-strings\n",
    "print(f\"{f\"{f\"{f\"{1 + 2}\"}\"}\"}\")"
   ]
  },
  {
   "cell_type": "code",
   "execution_count": 109,
   "metadata": {},
   "outputs": [
    {
     "name": "stdout",
     "output_type": "stream",
     "text": [
      "Fruit(name='Apple', cost=3)\n",
      "True\n",
      "2\n"
     ]
    }
   ],
   "source": [
    "from dataclasses import dataclass\n",
    "\n",
    "@dataclass\n",
    "class Fruit:\n",
    "    name: str\n",
    "    cost: float\n",
    "\n",
    "apple = Fruit(\"Apple\",3)\n",
    "banana = Fruit(\"Banana\",2)\n",
    "other = Fruit(\"Banana\",2)\n",
    "\n",
    "print(apple)\n",
    "print(banana == other)\n",
    "print(banana.cost)"
   ]
  },
  {
   "cell_type": "code",
   "execution_count": 1,
   "metadata": {},
   "outputs": [
    {
     "name": "stdout",
     "output_type": "stream",
     "text": [
      "13\n",
      "HELLO, WORLD!\n"
     ]
    }
   ],
   "source": [
    "# custom_module.py\n",
    "class Text:\n",
    "    def __init__(self, text: str) -> None:\n",
    "        self.text = text\n",
    "\n",
    "    def __format__(self, format_spec: str) -> str:\n",
    "        match format_spec:\n",
    "            case \"upper\":\n",
    "                return self.text.upper()\n",
    "            case \"len\":\n",
    "                return str(len(self.text))\n",
    "            case _:\n",
    "                raise Exception(\"Unknown format\")\n",
    "\n",
    "# main.py\n",
    "# from custom_module import Text\n",
    "\n",
    "text: Text = Text(\"Hello, World!\")\n",
    "print(f\"{text:len}\")\n",
    "print(f\"{text:upper}\")\n"
   ]
  },
  {
   "cell_type": "code",
   "execution_count": 7,
   "metadata": {},
   "outputs": [
    {
     "name": "stdout",
     "output_type": "stream",
     "text": [
      "[10, 18, 24, 28, 30, 30, 28, 24, 18, 10]\n",
      "[10, 18, 24, 28, 30, 30, 28, 24, 18, 10]\n",
      "Time for loop: 0.0003678749781101942\n",
      "Time for mult: 0.00011870800517499447\n"
     ]
    }
   ],
   "source": [
    "# map function\n",
    "import timeit as t\n",
    "\n",
    "alist = [1, 2, 3, 4, 5, 6, 7, 8, 9, 10]\n",
    "blist = [10, 9, 8, 7, 6, 5, 4, 3, 2, 1]\n",
    "\n",
    "start1 = t.default_timer()\n",
    "\n",
    "x = []\n",
    "for i in range(10):\n",
    "    x.append(alist[i] * blist[i])\n",
    "\n",
    "print(x)\n",
    "\n",
    "stop1 = t.default_timer()\n",
    "start2 = t.default_timer()\n",
    "\n",
    "def mult(i,j):\n",
    "    return i*j\n",
    "\n",
    "x = map(mult,alist,blist)\n",
    "print(list(x))\n",
    "\n",
    "stop2 = t.default_timer()\n",
    "\n",
    "print(f\"Time for loop: {stop1 - start1}\")\n",
    "print(f\"Time for mult: {stop2 - start2}\")"
   ]
  },
  {
   "cell_type": "code",
   "execution_count": 41,
   "metadata": {},
   "outputs": [
    {
     "name": "stdout",
     "output_type": "stream",
     "text": [
      "[552, 642, 892, 122, 454, 224, 234, 344, 562, 116, 544, 112, 680, 516]\n",
      "[552, 642, 892, 122, 454, 224, 234, 344, 562, 116, 544, 112, 680, 516]\n",
      "<map object at 0x10834a0b0>\n",
      "[552, 642, 892, 122, 454, 224, 234, 344, 562, 116, 544, 112, 680, 516]\n",
      "Time for update list: 0.0006661249790340662\n",
      "Time for append list: 0.00014445814304053783\n",
      "Time for map func: 0.00011537503451108932\n"
     ]
    }
   ],
   "source": [
    "# Map Function - map(function, iterable)\n",
    "# Returns an iterator that applies function to every item of iterable\n",
    "import timeit as t\n",
    "\n",
    "def make_even(num):\n",
    "    if num%2==1:\n",
    "        return num+1\n",
    "    else:\n",
    "        return num\n",
    "\n",
    "x = [551, 641, 891, 122, 453, 223, 234, 343, 562, 115, 544, 111, 679, 516]\n",
    "\n",
    "# Method 1\n",
    "start1 = t.default_timer()\n",
    "for i, n in enumerate(x):\n",
    "    x[i] = make_even(n)\n",
    "print(x)\n",
    "stop1 = t.default_timer()\n",
    "\n",
    "# Method 2\n",
    "start2 = t.default_timer()\n",
    "y = []\n",
    "for num in x:\n",
    "    y.append(make_even(num))\n",
    "print(y)\n",
    "stop2 = t.default_timer()\n",
    "\n",
    "# Method 3\n",
    "start3 = t.default_timer()\n",
    "z = map(make_even, x)\n",
    "print(z)                    # Returns a map object\n",
    "print(list(z))\n",
    "stop3 = t.default_timer()\n",
    "\n",
    "print(f\"Time for update list: {stop1 - start1}\")\n",
    "print(f\"Time for append list: {stop2 - start2}\")\n",
    "print(f\"Time for map func: {stop3 - start3}\")"
   ]
  },
  {
   "cell_type": "code",
   "execution_count": 42,
   "metadata": {},
   "outputs": [
    {
     "name": "stdout",
     "output_type": "stream",
     "text": [
      "{'a': '1', 'b': '2', 'c': '3'}\n"
     ]
    }
   ],
   "source": [
    "values = (\"a1\",\"b2\",\"c3\")\n",
    "print(dict(values))     # dictionary will split to key value pair\n",
    "\n",
    "# dict expects an iterable of two-element tuples. But it is duck-typed, so as\n",
    "# long as your iterable yields a series of objects of length 2, it works on\n",
    "# them! For each x in the iterable, dict takes x[0] as the key and x[1] as the value."
   ]
  },
  {
   "cell_type": "code",
   "execution_count": 44,
   "metadata": {},
   "outputs": [
    {
     "name": "stdout",
     "output_type": "stream",
     "text": [
      "48:53 Logged!\n"
     ]
    },
    {
     "name": "stderr",
     "output_type": "stream",
     "text": [
      "48:53 Logged!\n"
     ]
    }
   ],
   "source": [
    "import sys\n",
    "from datetime import datetime\n",
    "\n",
    "now = datetime.now()\n",
    "message = f\"{now:%M:%S} Logged!\"\n",
    "\n",
    "print(message, file=sys.stdout)\n",
    "print(message, file=sys.stderr)\n",
    "\n",
    "with open(\"logs.txt\",\"a\") as file:\n",
    "    print(message, file=file)"
   ]
  },
  {
   "cell_type": "code",
   "execution_count": 47,
   "metadata": {},
   "outputs": [
    {
     "name": "stdout",
     "output_type": "stream",
     "text": [
      "[('Steve', 9.3), ('Mark', 7.44), ('Chris', 17.67)]\n",
      "[('Steve', 9.3), ('Mark', 7.44), ('Chris', 17.67)]\n"
     ]
    }
   ],
   "source": [
    "citizens = [(\"Steve\",10),(\"Mark\",8),(\"Chris\",19)]\n",
    "\n",
    "# Method 1\n",
    "def tax(citizen):\n",
    "    name = citizen[0]\n",
    "    taxed_balance = citizen[1]*0.93\n",
    "    return (name, taxed_balance)\n",
    "\n",
    "taxed_citizens = []\n",
    "for citizen in citizens:\n",
    "    taxed_citizen = tax(citizen)\n",
    "    taxed_citizens.append(taxed_citizen)\n",
    "\n",
    "print(taxed_citizens)\n",
    "\n",
    "# Method 2 using map\n",
    "taxed_citizens = map(tax,citizens)\n",
    "print(list(taxed_citizens))"
   ]
  },
  {
   "cell_type": "code",
   "execution_count": 51,
   "metadata": {},
   "outputs": [
    {
     "name": "stdout",
     "output_type": "stream",
     "text": [
      "Invalid input!\n"
     ]
    }
   ],
   "source": [
    "# Match case\n",
    "def do_this():\n",
    "    print(\"Doing this\")\n",
    "\n",
    "def do_that():\n",
    "    print(\"Doing that\")\n",
    "\n",
    "match input(\"Do this or that? \"):\n",
    "    case \"this\":\n",
    "        do_this()\n",
    "    case \"that\":\n",
    "        do_that()\n",
    "    case _:\n",
    "        print(\"Invalid input!\")"
   ]
  },
  {
   "cell_type": "code",
   "execution_count": null,
   "metadata": {},
   "outputs": [],
   "source": [
    "import time\n",
    "from itertools import cycle\n",
    "\n",
    "lights = [(\"Green\", 2), (\"Yellow\", 0.5), (\"Red\",2)]\n",
    "\n",
    "# Method 1\n",
    "i = 0\n",
    "while True:\n",
    "    c,s = lights[i]\n",
    "    print(c)\n",
    "    time.sleep(s)\n",
    "    if i == len(lights)-1:\n",
    "        i = 0\n",
    "    else:\n",
    "        i += 1\n",
    "\n",
    "# Method 2 using cycle\n",
    "colors = cycle(lights)\n",
    "while True:\n",
    "    c,s = next(colors)\n",
    "    print(c)\n",
    "    time.sleep(s)"
   ]
  },
  {
   "cell_type": "code",
   "execution_count": 69,
   "metadata": {},
   "outputs": [
    {
     "name": "stdout",
     "output_type": "stream",
     "text": [
      "<__main__.Car object at 0x1084cb0b0>\n",
      "Volvo is driving!\n",
      "None\n",
      "Volvo is driving!\n"
     ]
    }
   ],
   "source": [
    "class Car:\n",
    "    def __init__(self, brand: str):\n",
    "        self.brand = brand\n",
    "\n",
    "    def drive(self):\n",
    "        print(f\"{self.brand} is driving!\")\n",
    "\n",
    "car = Car(\"Volvo\")\n",
    "print(car)\n",
    "print(car.drive())                              # following will type None as well\n",
    "car.drive()\n",
    "# print(car       .       drive())            # dot notation disregards the spaces before or after"
   ]
  },
  {
   "cell_type": "code",
   "execution_count": 75,
   "metadata": {},
   "outputs": [
    {
     "name": "stdout",
     "output_type": "stream",
     "text": [
      "(1, 2, 3)\n",
      "('a', 2, 3)\n"
     ]
    }
   ],
   "source": [
    "string: str = \"string\"\n",
    "_t: tuple[int, int] = (1, 2, 3)             # gives warning\n",
    "print(_t)\n",
    "\n",
    "_t: tuple[int | str, ...] = (\"a\", 2, 3)     # removes warning\n",
    "print(_t)"
   ]
  },
  {
   "cell_type": "code",
   "execution_count": 77,
   "metadata": {},
   "outputs": [
    {
     "name": "stdout",
     "output_type": "stream",
     "text": [
      "Calling: first\n",
      "Calling: first\n"
     ]
    }
   ],
   "source": [
    "def first():\n",
    "    print(\"Calling: first\")\n",
    "\n",
    "def second():\n",
    "    print(\"Calling: second\")\n",
    "\n",
    "def third():\n",
    "    print(\"Calling: third\")\n",
    "\n",
    "def default():\n",
    "    print(\"Calling: default\")\n",
    "\n",
    "var: int = 0\n",
    "\n",
    "# Method 1\n",
    "if var == 0:\n",
    "    first()\n",
    "elif var == 1:\n",
    "    second()\n",
    "elif var == 2:\n",
    "    third()\n",
    "else:\n",
    "    default()\n",
    "\n",
    "# Method 2 using dictionary\n",
    "funcs: dict = {0: first, 1: second, 2: third}\n",
    "final = funcs.get(var, default)\n",
    "final()"
   ]
  },
  {
   "cell_type": "code",
   "execution_count": 80,
   "metadata": {},
   "outputs": [
    {
     "name": "stdout",
     "output_type": "stream",
     "text": [
      "[0, 1, 2]\n",
      "[]\n",
      "[0, -1, -2]\n"
     ]
    }
   ],
   "source": [
    "positive = range(0,3)\n",
    "print(list(positive))\n",
    "\n",
    "negative = range(0, -3)\n",
    "print(list(negative))           # prints empty list\n",
    "\n",
    "negative = range(0, -3, -1)     # mention step\n",
    "print(list(negative))"
   ]
  },
  {
   "cell_type": "code",
   "execution_count": 86,
   "metadata": {},
   "outputs": [
    {
     "name": "stdout",
     "output_type": "stream",
     "text": [
      "{'spam': None, 'eggs': None, 'ham': None}\n",
      "{'spam': 0, 'eggs': 0, 'ham': 0}\n"
     ]
    }
   ],
   "source": [
    "keys = (\"spam\",\"eggs\",\"ham\")\n",
    "my_dict = dict.fromkeys(keys)\n",
    "print(my_dict)\n",
    "\n",
    "my_dict = dict.fromkeys(keys, 0)\n",
    "print(my_dict)"
   ]
  },
  {
   "cell_type": "code",
   "execution_count": 89,
   "metadata": {},
   "outputs": [
    {
     "name": "stdout",
     "output_type": "stream",
     "text": [
      "[6, 4, 7]\n",
      "{'Daniel': 6, 'Mike': 4, 'William': 7}\n"
     ]
    }
   ],
   "source": [
    "names = [\"Daniel\",\"Mike\",\"William\"]\n",
    "\n",
    "# List comprehension\n",
    "length = [len(name) for name in names]\n",
    "print(length)\n",
    "\n",
    "# Dictionary comprehension\n",
    "length = {name:len(name) for name in names}\n",
    "print(length)"
   ]
  },
  {
   "cell_type": "code",
   "execution_count": 102,
   "metadata": {},
   "outputs": [
    {
     "name": "stdout",
     "output_type": "stream",
     "text": [
      "Hello, World\n",
      "None\n",
      "2024-07-06\n",
      "None\n"
     ]
    }
   ],
   "source": [
    "p = print(\"Hello, World\")\n",
    "print(p)                    # Will print None as well\n",
    "\n",
    "from datetime import date\n",
    "\n",
    "def show_date():\n",
    "    print(date.today())\n",
    "    return None             # Python implicitly adds this to the bottom if we are not returning anything\n",
    "\n",
    "print(show_date())\n",
    "\n",
    "def show_date() -> None:    # This specifies that this function returns None\n",
    "    print(date.today())\n",
    "\n",
    "# The following exception won't return a None\n",
    "def raise_exc():\n",
    "    raise Exception(\"Bye Bob\")\n",
    "\n",
    "from typing import NoReturn\n",
    "\n",
    "def raise_exc() -> NoReturn:\n",
    "    raise Exception(\"Bye Bob\")\n",
    "\n",
    "# print(raise_exc())"
   ]
  },
  {
   "cell_type": "code",
   "execution_count": null,
   "metadata": {},
   "outputs": [],
   "source": [
    "# Differences between module, package and a library\n",
    "\n",
    "# Module\n",
    "# A single file that contains Python code like classes, variables, functions, etc.\n",
    "# import custom_module\n",
    "\n",
    "# Package\n",
    "# Package is a collection of modules in a directory\n",
    "# Every package contains an __init__.py file, which defines it to be a package\n",
    "\n",
    "# Library\n",
    "# A collection of packages and modules to perform tasks\n",
    "# e.g. NumPy, Pandas\n",
    "\n",
    "# Basically, Modules are Chapters, Packages are a Book and the Library is, well the library"
   ]
  },
  {
   "cell_type": "code",
   "execution_count": 103,
   "metadata": {},
   "outputs": [
    {
     "name": "stdout",
     "output_type": "stream",
     "text": [
      "Cat\n",
      "Dog\n",
      "Cat\n",
      "Dog\n"
     ]
    },
    {
     "data": {
      "text/plain": [
       "<function __main__.animal(name: str)>"
      ]
     },
     "execution_count": 103,
     "metadata": {},
     "output_type": "execute_result"
    }
   ],
   "source": [
    "def function_name():\n",
    "    pass\n",
    "\n",
    "def animal(name: str):\n",
    "    print(name)\n",
    "    return animal\n",
    "\n",
    "animal(\"Cat\")\n",
    "animal(\"Dog\")\n",
    "\n",
    "animal(\"Cat\")(\"Dog\")\n"
   ]
  },
  {
   "cell_type": "code",
   "execution_count": 111,
   "metadata": {},
   "outputs": [
    {
     "name": "stdout",
     "output_type": "stream",
     "text": [
      "Welcome, John!\n",
      "Welcome, John!\n",
      "welcome, John!\n",
      "Welcome, John!\n"
     ]
    }
   ],
   "source": [
    "player_name = \"John\"\n",
    "\n",
    "# Method 1\n",
    "if player_name:\n",
    "    player = player_name\n",
    "else:\n",
    "    player = \"Guest Player\"\n",
    "print(f\"Welcome, {player}!\")\n",
    "\n",
    "# Method 2\n",
    "player = player_name or \"Guest Player\"\n",
    "print(f\"Welcome, {player}!\")\n",
    "\n",
    "# Method 3\n",
    "print (f\"welcome, {player_name if player_name else 'Guest Player'}!\")\n",
    "\n",
    "# Method 4\n",
    "if player := player_name or \"Guest Player\":\n",
    "    print(f\"Welcome, {player}!\")"
   ]
  },
  {
   "cell_type": "code",
   "execution_count": null,
   "metadata": {},
   "outputs": [],
   "source": [
    "# cache\n",
    "# Note: only works for \"Pure Functions\" though\n",
    "# Causes memory leak\n",
    "\n",
    "import time\n",
    "from functools import cache\n",
    "\n",
    "@cache                          # Stores and returns an output for a previous input option\n",
    "def calc(x):\n",
    "    print(f\"{x} + 1 is...\")\n",
    "    time.sleep(2)\n",
    "    return x + 1\n",
    "\n",
    "while True:\n",
    "    input_ = int(input(\">> \"))\n",
    "    print(calc(input_))"
   ]
  },
  {
   "cell_type": "code",
   "execution_count": 116,
   "metadata": {},
   "outputs": [
    {
     "name": "stdout",
     "output_type": "stream",
     "text": [
      "15\n",
      "20\n"
     ]
    }
   ],
   "source": [
    "# Pure functions\n",
    "# always returns same output for the same input\n",
    "# Has no side effects\n",
    "\n",
    "# Pure function\n",
    "def add(x, y):\n",
    "  return x + y\n",
    "\n",
    "# Impure function\n",
    "# As updates an existing number\n",
    "global_var = 10\n",
    "\n",
    "def add_to_global(x):\n",
    "  global global_var\n",
    "  global_var += x\n",
    "  return global_var\n",
    "\n",
    "print(add_to_global(5))\n",
    "print(add_to_global(5))         # Impure function returns different output for same input"
   ]
  },
  {
   "cell_type": "code",
   "execution_count": 119,
   "metadata": {},
   "outputs": [
    {
     "name": "stdout",
     "output_type": "stream",
     "text": [
      "wrapper\n",
      "wrapper docstring\n",
      "calculate\n",
      "calculate docstring\n"
     ]
    }
   ],
   "source": [
    "def decorator(func):\n",
    "    \"decorator docstring\"\n",
    "\n",
    "    def wrapper(*args, **kwargs):\n",
    "        \"wrapper docstring\"\n",
    "        ...\n",
    "\n",
    "    return wrapper\n",
    "\n",
    "@decorator\n",
    "def calculate():\n",
    "    \"calculate docstring\"\n",
    "    ...\n",
    "\n",
    "print(calculate.__name__)       # returns wrapper\n",
    "print(calculate.__doc__)        # returns wrapper docstring\n",
    "\n",
    "\n",
    "from functools import wraps\n",
    "\n",
    "def decorator(func):\n",
    "    \"decorator docstring\"\n",
    "\n",
    "    @wraps(func)\n",
    "    def wrapper(*args, **kwargs):\n",
    "        \"wrapper docstring\"\n",
    "        ...\n",
    "\n",
    "    return wrapper\n",
    "\n",
    "@decorator\n",
    "def calculate():\n",
    "    \"calculate docstring\"\n",
    "    ...\n",
    "\n",
    "print(calculate.__name__)       # returns calculate\n",
    "print(calculate.__doc__)        # returns calculate docstring\n"
   ]
  },
  {
   "cell_type": "code",
   "execution_count": 123,
   "metadata": {},
   "outputs": [
    {
     "name": "stdout",
     "output_type": "stream",
     "text": [
      "Volvo: drive()\n",
      "Toyota: drive()\n"
     ]
    }
   ],
   "source": [
    "# Normal class\n",
    "class Car:\n",
    "    def __init__(self, brand):\n",
    "        self.brand = brand\n",
    "\n",
    "    def drive(self):\n",
    "        print(f\"{self.brand}: drive()\")\n",
    "\n",
    "car = Car(\"Volvo\")\n",
    "car.drive()\n",
    "\n",
    "# Another way, although not practical\n",
    "def car_init(self, brand):\n",
    "    self.brand = brand\n",
    "\n",
    "def drive(self):\n",
    "    print(f\"{self.brand}: drive()\")\n",
    "\n",
    "Car = type(\"Car\", (), {\n",
    "    \"__init__\": car_init,\n",
    "    \"drive\": drive\n",
    "})\n",
    "\n",
    "car = Car(\"Toyota\")\n",
    "car.drive()"
   ]
  },
  {
   "cell_type": "code",
   "execution_count": 125,
   "metadata": {},
   "outputs": [
    {
     "name": "stdout",
     "output_type": "stream",
     "text": [
      "1853674.5406824148\n",
      "864000\n"
     ]
    }
   ],
   "source": [
    "# Currying\n",
    "# Currying is used to transform multiple-argument function into single argument\n",
    "# function by evaluating incremental nesting of function arguments.\n",
    "\n",
    "# Demonstrate Currying of composition of function\n",
    "def change(b, c, d):\n",
    "    def a(x):\n",
    "        return b(c(d(x)))\n",
    "    return a\n",
    "\n",
    "def kilometer2meter(dist):\n",
    "    \"\"\" Function that converts km to m. \"\"\"\n",
    "    return dist * 1000\n",
    "\n",
    "def meter2centimeter(dist):\n",
    "    \"\"\" Function that converts m to cm. \"\"\"\n",
    "    return dist * 100\n",
    "\n",
    "def centimeter2feet(dist):\n",
    "    \"\"\" Function that converts cm to ft. \"\"\"\n",
    "    return dist / 30.48\n",
    "\n",
    "if __name__ == '__main__':\n",
    "    transform = change(centimeter2feet, meter2centimeter, kilometer2meter )\n",
    "    e = transform(565)\n",
    "    print(e)\n",
    "\n",
    "# Demonstrate Currying of composition of function\n",
    "\n",
    "def change(b, c, d):\n",
    "    def a(x):\n",
    "        return b(c(d(x)))\n",
    "    return a\n",
    "\n",
    "def daystohour(time):\n",
    "    \"\"\" Function that converts days to hours. \"\"\"\n",
    "    return time * 24\n",
    "\n",
    "def hourstominutes(time):\n",
    "    \"\"\" Function that converts hours to minutes. \"\"\"\n",
    "    return time * 60\n",
    "\n",
    "def minutestoseconds(time):\n",
    "    \"\"\" Function that converts minutes to seconds. \"\"\"\n",
    "    return time * 60\n",
    "\n",
    "if __name__ == '__main__':\n",
    "    transform = change(minutestoseconds, hourstominutes, daystohour)\n",
    "    e = transform(10)\n",
    "    print(e)"
   ]
  },
  {
   "cell_type": "code",
   "execution_count": 126,
   "metadata": {},
   "outputs": [
    {
     "name": "stdout",
     "output_type": "stream",
     "text": [
      "Searching for:\n",
      "'a' in [1, 'a', 2, 'b']\n",
      "True\n"
     ]
    }
   ],
   "source": [
    "class Items:\n",
    "    def __init__(self, items):\n",
    "        self.items = items\n",
    "\n",
    "    # Override contains dunder method\n",
    "    def __contains__(self, item):\n",
    "        print(\"Searching for:\")\n",
    "        print(f\"'{item}' in {self.items}\")\n",
    "        return item in self.items\n",
    "\n",
    "if __name__ == \"__main__\":\n",
    "    my_items = Items([1, \"a\", 2, \"b\"])\n",
    "    print(\"a\" in my_items)"
   ]
  },
  {
   "cell_type": "code",
   "execution_count": 129,
   "metadata": {},
   "outputs": [
    {
     "name": "stdout",
     "output_type": "stream",
     "text": [
      "['a', 'b', 'c', 'd', 'e']\n",
      "[0, 1, 2, 3]\n",
      "[0, 1, 2, 3]\n"
     ]
    }
   ],
   "source": [
    "# Pistol operator\n",
    "# Unpack\n",
    "\n",
    "*_, = \"abcde\"\n",
    "print(_)\n",
    "\n",
    "*_, = range(4)\n",
    "print(_)\n",
    "\n",
    "print(list(range(4)))"
   ]
  },
  {
   "cell_type": "code",
   "execution_count": 7,
   "metadata": {},
   "outputs": [
    {
     "name": "stdout",
     "output_type": "stream",
     "text": [
      "250.0\n",
      "Could not multiply:\n",
      "'Hello'\n",
      "None\n"
     ]
    }
   ],
   "source": [
    "class CustomStr:\n",
    "    def __init__(self, value):\n",
    "        self.value = value\n",
    "\n",
    "    def __mul__(self, other):\n",
    "        try:\n",
    "            return float(self.value) * other\n",
    "        except ValueError:\n",
    "            print(f\"Could not multiply:\")\n",
    "            print(f\"'{self.value}'\")\n",
    "\n",
    "cs = CustomStr(\"50\")\n",
    "print(cs * 5)\n",
    "\n",
    "cs = CustomStr(\"Hello\")\n",
    "print(cs * 5)\n"
   ]
  },
  {
   "cell_type": "code",
   "execution_count": 8,
   "metadata": {},
   "outputs": [
    {
     "name": "stdout",
     "output_type": "stream",
     "text": [
      "['Eggs', 'Ham', 'Spam']\n",
      "['Eggs\\n', 'Ham\\n', 'Spam\\n']\n"
     ]
    }
   ],
   "source": [
    "text: str = \"\"\"Eggs\n",
    "Ham\n",
    "Spam\n",
    "\"\"\"\n",
    "\n",
    "print(text.splitlines())\n",
    "print(text.splitlines(keepends=True))       # Keeps the \\n char"
   ]
  },
  {
   "cell_type": "code",
   "execution_count": 12,
   "metadata": {},
   "outputs": [
    {
     "name": "stdout",
     "output_type": "stream",
     "text": [
      "450\n",
      "450\n",
      "Method 1: 0.0007166662253439426\n",
      "Method 2: 0.0002517090179026127\n"
     ]
    }
   ],
   "source": [
    "import timeit as t\n",
    "\n",
    "global_var = 10\n",
    "\n",
    "start1 = t.default_timer()\n",
    "def func():\n",
    "    ans = 0\n",
    "    for i in range(10):\n",
    "        ans += global_var * i           # For each loop, global_var is being fetched from outside\n",
    "    return ans\n",
    "\n",
    "print(func())\n",
    "\n",
    "stop1 = t.default_timer()\n",
    "start2 = t.default_timer()\n",
    "\n",
    "# Optimize it by reassigning global var inside\n",
    "def func():\n",
    "    ans = 0\n",
    "    local_var = global_var\n",
    "    for i in range(10):\n",
    "        ans += local_var * i           # For each loop\n",
    "    return ans\n",
    "\n",
    "print(func())\n",
    "stop2 = t.default_timer()\n",
    "\n",
    "print(f\"Method 1: {stop1 - start1}\")\n",
    "print(f\"Method 2: {stop2 - start2}\")"
   ]
  },
  {
   "cell_type": "code",
   "execution_count": 13,
   "metadata": {},
   "outputs": [
    {
     "name": "stdout",
     "output_type": "stream",
     "text": [
      "[1, 2, 3, 4, 5, 6, 7, 8, 9]\n"
     ]
    }
   ],
   "source": [
    "a = [1, 2, 3, 3, 4, 5, 6]\n",
    "b = [4, 4, 5, 6, 7, 8, 9]\n",
    "\n",
    "def merge_arrays(arrayA, arrayB):\n",
    "    # 1: Merge arrayA and arrayB\n",
    "    # 2: Remove duplicates\n",
    "    # 3: Sort list in ascending order\n",
    "    return sorted(set(arrayA + arrayB))\n",
    "\n",
    "print(merge_arrays(a,b))"
   ]
  },
  {
   "cell_type": "code",
   "execution_count": 15,
   "metadata": {},
   "outputs": [
    {
     "name": "stdout",
     "output_type": "stream",
     "text": [
      "HeLlO, wOrLd!\n"
     ]
    }
   ],
   "source": [
    "def alt_caps(s: str) -> str:\n",
    "    temp: list[str] = []\n",
    "    for i,c in enumerate(s):\n",
    "        if i%2 == 0:\n",
    "            temp.append(c.upper())\n",
    "        else:\n",
    "            temp.append(c.lower())\n",
    "    return ''.join(temp)\n",
    "\n",
    "print(alt_caps(\"Hello, World!\"))"
   ]
  },
  {
   "cell_type": "code",
   "execution_count": 18,
   "metadata": {},
   "outputs": [
    {
     "name": "stdout",
     "output_type": "stream",
     "text": [
      "{1}\n",
      "{4}\n",
      "{1, 4}\n",
      "{1, 2, 3, 4}\n",
      "{2, 3}\n",
      "{1}\n"
     ]
    }
   ],
   "source": [
    "set_a = {1, 2, 3}\n",
    "set_b = {2, 3, 4}\n",
    "\n",
    "print(set_a - set_b)\n",
    "print(set_b - set_a)\n",
    "\n",
    "# set_a.symmetric_difference(set_b)\n",
    "print(set_a ^ set_b)\n",
    "\n",
    "# set_a.union(set_b)\n",
    "print(set_a | set_b)\n",
    "\n",
    "# set_a.intersection(set_b)\n",
    "print(set_a & set_b)\n",
    "\n",
    "# set_a.difference(set_b)\n",
    "print(set_a - set_b)"
   ]
  },
  {
   "cell_type": "code",
   "execution_count": 22,
   "metadata": {},
   "outputs": [
    {
     "name": "stdout",
     "output_type": "stream",
     "text": [
      "    January 2024\n",
      "Mo Tu We Th Fr Sa Su\n",
      " 1  2  3  4  5  6  7\n",
      " 8  9 10 11 12 13 14\n",
      "15 16 17 18 19 20 21\n",
      "22 23 24 25 26 27 28\n",
      "29 30 31\n",
      "\n",
      "     July 2024\n",
      "Mo Tu We Th Fr Sa Su\n",
      " 1  2  3  4  5  6  7\n",
      " 8  9 10 11 12 13 14\n",
      "15 16 17 18 19 20 21\n",
      "22 23 24 25 26 27 28\n",
      "29 30 31\n",
      "\n"
     ]
    }
   ],
   "source": [
    "from calendar import month\n",
    "from datetime import datetime\n",
    "\n",
    "# Print a month calendar\n",
    "print(month(2024,1))\n",
    "\n",
    "# Print current month calendar\n",
    "now = datetime.now()\n",
    "y, m = now.year, now.month\n",
    "print(month(y,m))\n"
   ]
  },
  {
   "cell_type": "code",
   "execution_count": 24,
   "metadata": {},
   "outputs": [
    {
     "name": "stdout",
     "output_type": "stream",
     "text": [
      "Counter({'e': 5, 's': 5, 'x': 4, 'y': 2})\n",
      "[('e', 5), ('s', 5), ('x', 4), ('y', 2)]\n",
      "[('e', 5), ('s', 5)]\n"
     ]
    }
   ],
   "source": [
    "from collections import Counter\n",
    "\n",
    "text = \"yyeeeeesssssxxxx\"\n",
    "c = Counter(text)\n",
    "print(c)\n",
    "print(c.most_common())\n",
    "print(c.most_common(2))"
   ]
  },
  {
   "cell_type": "code",
   "execution_count": 31,
   "metadata": {},
   "outputs": [
    {
     "name": "stdout",
     "output_type": "stream",
     "text": [
      "5\n",
      "Mario\n",
      "Jeffery\n"
     ]
    }
   ],
   "source": [
    "numbers = [1, 2, 3, 4, 5]\n",
    "names = [\"Mario\", \"Jeffery\", \"Chris\"]\n",
    "\n",
    "print(max(numbers))\n",
    "print(max(names))               # Returns arbitary\n",
    "print(max(names, key=len))      # Returns longest name"
   ]
  },
  {
   "cell_type": "code",
   "execution_count": 42,
   "metadata": {},
   "outputs": [
    {
     "name": "stdout",
     "output_type": "stream",
     "text": [
      "True\n",
      "True\n",
      "Useless!\n",
      "Pointless\n",
      "\n",
      "Useless\n"
     ]
    }
   ],
   "source": [
    "is_true: bool = True\n",
    "\n",
    "# No need to check True\n",
    "if is_true == True:\n",
    "    print(\"True\")\n",
    "elif is_true == False:\n",
    "    print(\"False\")\n",
    "\n",
    "# Better\n",
    "if is_true:\n",
    "    print(\"True\")\n",
    "else:\n",
    "    print(\"False\")\n",
    "\n",
    "# 2. while does not have a purpose\n",
    "while True:\n",
    "    break\n",
    "print(\"Useless!\")\n",
    "\n",
    "# 3. Looping only once\n",
    "for i in range(1):\n",
    "    print(\"Pointless\")\n",
    "\n",
    "# 4. Empty print\n",
    "print(\"\",end=\"\")\n",
    "print(\"\",end=\"\")\n",
    "print(\"\")           # prints a new line\n",
    "print(\"Useless\")\n",
    "\n",
    "# 5. immediate deleteing a variable\n",
    "a: int = 1\n",
    "del a\n",
    "\n",
    "# print(f\"Useless {a}!\")      # Returns NameError, a is not defined"
   ]
  },
  {
   "cell_type": "code",
   "execution_count": 43,
   "metadata": {},
   "outputs": [
    {
     "name": "stdout",
     "output_type": "stream",
     "text": [
      "3\n"
     ]
    }
   ],
   "source": [
    "vowels: int = 0\n",
    "for i in \"banana\":\n",
    "    if i in \"aeiou\":\n",
    "        vowels += 1\n",
    "\n",
    "print(vowels)"
   ]
  },
  {
   "cell_type": "code",
   "execution_count": 44,
   "metadata": {},
   "outputs": [
    {
     "name": "stdout",
     "output_type": "stream",
     "text": [
      "Seconds: 1.1436731815338135\n",
      "Seconds: 1.3572049140930176\n"
     ]
    }
   ],
   "source": [
    "import time\n",
    "\n",
    "# Dynamic Storage\n",
    "# With each loop, a new list is created in memory\n",
    "# With each append, the old list is copied over and the\n",
    "# new item is appended to the newly copied list\n",
    "# creates 30M lists in memory\n",
    "start = time.time()\n",
    "my_list = []\n",
    "for num in range(30_000_000):\n",
    "    my_list.append(num)\n",
    "end = time.time()\n",
    "print(f\"Seconds: {end-start}\")\n",
    "\n",
    "# Pre-allocation\n",
    "# Creates an empty list of 30M elements with the value 0\n",
    "# Uses and updates the same list in memory\n",
    "start = time.time()\n",
    "my_list2 = [0]*30_000_000\n",
    "for num in range(30_000_000):\n",
    "    my_list2[num] = num\n",
    "end = time.time()\n",
    "print(f\"Seconds: {end-start}\")"
   ]
  },
  {
   "cell_type": "code",
   "execution_count": 45,
   "metadata": {},
   "outputs": [
    {
     "name": "stdout",
     "output_type": "stream",
     "text": [
      "['a', 'b', 'c', 'd', 'e']\n",
      "[['a', 'b', 'c'], ['d', 'e']]\n"
     ]
    }
   ],
   "source": [
    "# Create chunks in the list for batch processing\n",
    "def chunks(lst: list, n:int):\n",
    "    for i in range(0, len(lst), n):\n",
    "        yield lst[i:i + n]\n",
    "\n",
    "sample: list[str] = [\"a\",\"b\",\"c\",\"d\",\"e\"]\n",
    "print(sample)\n",
    "print(list(chunks(sample, 3)))"
   ]
  },
  {
   "cell_type": "code",
   "execution_count": 50,
   "metadata": {},
   "outputs": [
    {
     "name": "stdout",
     "output_type": "stream",
     "text": [
      "25.0\n"
     ]
    }
   ],
   "source": [
    "def averageA(a, b, c):\n",
    "    avg = (a + b + c) / 3\n",
    "    print(avg)\n",
    "\n",
    "def averageB(*nums):\n",
    "    avg = sum(nums) / len(nums)\n",
    "    print(avg)\n",
    "\n",
    "# averageA(10, 20, 30, 40)      # Will throw a TypeError, takes 3 positional arguments but 4 were given\n",
    "averageB(10, 20, 30, 40)        # Unpacks the arguments"
   ]
  },
  {
   "cell_type": "code",
   "execution_count": 51,
   "metadata": {},
   "outputs": [
    {
     "name": "stdout",
     "output_type": "stream",
     "text": [
      "-4\n"
     ]
    }
   ],
   "source": [
    "x = int(\"1234567\"[6])       # takes 6th index character = 7\n",
    "y = -round(2.1)             # rounds number = -2\n",
    "z = x//y                    # int = -4\n",
    "print(z)"
   ]
  },
  {
   "cell_type": "code",
   "execution_count": null,
   "metadata": {},
   "outputs": [],
   "source": [
    "from time import *\n",
    "from fake_package import *\n",
    "\n",
    "def func():\n",
    "    sleep(1)                    # sleep can be part of any 2 packages, hence avoid importing all with *\n",
    "    print(\"Hello, World\")\n",
    "\n",
    "func()"
   ]
  },
  {
   "cell_type": "code",
   "execution_count": 54,
   "metadata": {},
   "outputs": [
    {
     "name": "stdout",
     "output_type": "stream",
     "text": [
      "[1, 3, 5, 7, 9]\n",
      "[10, 8, 6, 4, 2]\n",
      "esrever ni em etirw\n"
     ]
    }
   ],
   "source": [
    "a = [1, 2, 3, 4, 5, 6, 7, 8, 9, 10]\n",
    "b = \"write me in reverse\"\n",
    "\n",
    "print(a[::2])       # step operator\n",
    "print(a[::-2])\n",
    "print(b[::-1])      # write in reverse with 1 step"
   ]
  },
  {
   "cell_type": "code",
   "execution_count": 60,
   "metadata": {},
   "outputs": [
    {
     "name": "stdout",
     "output_type": "stream",
     "text": [
      "320\n"
     ]
    }
   ],
   "source": [
    "class Book:\n",
    "    def __init__(self, title, pages):\n",
    "        self.title = title\n",
    "        self.pages = pages\n",
    "\n",
    "book = Book(\"Book\", 320)\n",
    "# print(len(book))                      # Will throw an error, as object does not have len\n",
    "\n",
    "class Book:\n",
    "    def __init__(self, title, pages):\n",
    "        self.title = title\n",
    "        self.pages = pages\n",
    "\n",
    "    def __len__(self):                  # define a length dunder method\n",
    "        return self.pages\n",
    "\n",
    "book = Book(\"Book\", 320)\n",
    "print(len(book))"
   ]
  },
  {
   "cell_type": "code",
   "execution_count": 64,
   "metadata": {},
   "outputs": [
    {
     "name": "stdout",
     "output_type": "stream",
     "text": [
      "Func: 1.005 secs\n"
     ]
    }
   ],
   "source": [
    "import time\n",
    "from contextlib import contextmanager\n",
    "\n",
    "def kill_time():\n",
    "    time.sleep(1)\n",
    "\n",
    "@contextmanager\n",
    "def timer(label: str):\n",
    "    start: float = time.perf_counter()\n",
    "    try:\n",
    "        yield\n",
    "    finally:\n",
    "        end: float = time.perf_counter()\n",
    "        print(f\"{label}: {end - start:.3f} secs\")\n",
    "\n",
    "with timer(\"Func\"):\n",
    "    kill_time()"
   ]
  },
  {
   "cell_type": "code",
   "execution_count": 66,
   "metadata": {},
   "outputs": [
    {
     "name": "stdout",
     "output_type": "stream",
     "text": [
      "0\n",
      "1\n",
      "2\n",
      "Success!\n",
      "0\n",
      "1\n"
     ]
    }
   ],
   "source": [
    "for i in range(3):\n",
    "    print(i)\n",
    "else:\n",
    "    print(\"Success!\")           # Executes at the end of the for loop\n",
    "\n",
    "\n",
    "for i in range(3):\n",
    "    print(i)\n",
    "    if i == 1:\n",
    "        break\n",
    "else:\n",
    "    print(\"Success!\")           # Else block not executed due to break"
   ]
  },
  {
   "cell_type": "code",
   "execution_count": 73,
   "metadata": {},
   "outputs": [
    {
     "name": "stdout",
     "output_type": "stream",
     "text": [
      "1 2 3 4 1 2 3 4 "
     ]
    }
   ],
   "source": [
    "# List comprehension\n",
    "\n",
    "groups = [[1, 2], [3, 4]]\n",
    "\n",
    "for g in groups:\n",
    "    for elem in g:\n",
    "        print(elem, end=\" \")\n",
    "\n",
    "# With list comprehension\n",
    "c = [print(elem, end=\" \")\n",
    "     for g in groups\n",
    "     for elem in g]"
   ]
  },
  {
   "cell_type": "code",
   "execution_count": 76,
   "metadata": {},
   "outputs": [
    {
     "name": "stdout",
     "output_type": "stream",
     "text": [
      "normal_impl: 0.1209s\n",
      "optimized_impl: 0.0401s\n"
     ]
    }
   ],
   "source": [
    "from timeit import timeit\n",
    "\n",
    "def normal_impl() -> list[int]:\n",
    "    return [i for i in (0, 1, 2, 3, 4)]\n",
    "\n",
    "def optimized_impl() -> list[int]:\n",
    "    return [0, 1, 2, 3, 4]\n",
    "\n",
    "normal_time: float = timeit(stmt=normal_impl)\n",
    "optimized_impl: float = timeit(stmt=optimized_impl)\n",
    "\n",
    "print(f\"normal_impl: {round(normal_time, 4)}s\")\n",
    "print(f\"optimized_impl: {round(optimized_impl, 4)}s\")"
   ]
  },
  {
   "cell_type": "code",
   "execution_count": 79,
   "metadata": {},
   "outputs": [
    {
     "name": "stdout",
     "output_type": "stream",
     "text": [
      "{'address': {'city': 'New York',\n",
      "             'contacts': {'email': 'john@example.com', 'phone': '555-1234'},\n",
      "             'street': '123 Main St',\n",
      "             'zip': '10001'},\n",
      " 'age': 30,\n",
      " 'hobbies': ['reading', 'coding', 'hiking'],\n",
      " 'name': 'John'}\n"
     ]
    }
   ],
   "source": [
    "from pprint import pprint\n",
    "\n",
    "my_d: dict = {\n",
    "    'name': 'John',\n",
    "    'age': 30,\n",
    "    'address': {\n",
    "        'street': '123 Main St',\n",
    "        'city': 'New York',\n",
    "        'zip': '10001',\n",
    "        'contacts': {\n",
    "            'phone': '555-1234',\n",
    "            'email': 'john@example.com'\n",
    "        }\n",
    "    },\n",
    "    'hobbies': ['reading', 'coding', 'hiking']\n",
    "}\n",
    "\n",
    "# print(my_d)               # prints in only one line\n",
    "pprint(my_d)"
   ]
  },
  {
   "cell_type": "code",
   "execution_count": 82,
   "metadata": {},
   "outputs": [
    {
     "name": "stdout",
     "output_type": "stream",
     "text": [
      "Nice\n",
      "Nice\n"
     ]
    },
    {
     "data": {
      "text/plain": [
       "'Nice!'"
      ]
     },
     "execution_count": 82,
     "metadata": {},
     "output_type": "execute_result"
    }
   ],
   "source": [
    "weather: str = \"CLEAR\"\n",
    "message: str = \"\"\n",
    "\n",
    "if weather == \"CLEAR\":\n",
    "    message = \"Nice\"\n",
    "else:\n",
    "    message = \"Damn!\"\n",
    "print(message)\n",
    "\n",
    "# Using ternary operator\n",
    "message: str = \"Nice\" if weather == \"CLEAR\" else \"Damn!\"\n",
    "print(message)\n",
    "\n",
    "# Another implementation\n",
    "['Uh oh...', 'Nice!'][weather == 'CLEAR']"
   ]
  },
  {
   "cell_type": "code",
   "execution_count": 87,
   "metadata": {},
   "outputs": [
    {
     "name": "stdout",
     "output_type": "stream",
     "text": [
      "Success\n",
      "Success\n"
     ]
    }
   ],
   "source": [
    "l1 = [-1, 0, 1, 2]\n",
    "l2 = [0, 1, 2]\n",
    "\n",
    "# Use any\n",
    "if any(n > 0 for n in l1):\n",
    "    print(\"Success\")\n",
    "\n",
    "# Use all\n",
    "if all(n >= 0 for n in l2):\n",
    "    print(\"Success\")\n",
    "\n",
    "if all(n > 0 for n in l2):\n",
    "    print(\"Success\")                # Will not print since it failed\n"
   ]
  },
  {
   "cell_type": "code",
   "execution_count": 89,
   "metadata": {},
   "outputs": [
    {
     "name": "stdout",
     "output_type": "stream",
     "text": [
      "3\n",
      "['a', 'ab', 'abc']\n"
     ]
    }
   ],
   "source": [
    "add = lambda a, b: a + b\n",
    "print(add(1, 2))\n",
    "\n",
    "names = [\"a\", \"abc\", \"ab\"]\n",
    "a_sort = sorted(names, key=lambda x:len(x))\n",
    "print(list(a_sort))"
   ]
  },
  {
   "cell_type": "code",
   "execution_count": 90,
   "metadata": {},
   "outputs": [
    {
     "name": "stdout",
     "output_type": "stream",
     "text": [
      "text text text\n"
     ]
    }
   ],
   "source": [
    "a = \"text\"\n",
    "b = \"text\"\n",
    "c = \"text\"\n",
    "\n",
    "a, b, c = \"text\", \"text\", \"text\"\n",
    "\n",
    "a = b = c = \"text\"\n",
    "print(a, b, c)"
   ]
  },
  {
   "cell_type": "code",
   "execution_count": 93,
   "metadata": {},
   "outputs": [
    {
     "name": "stdout",
     "output_type": "stream",
     "text": [
      "Mario: 1\n",
      "Luigi: 2\n",
      "Mario: b55e285b-6492-48e9-b664-c0e52d6238bd\n",
      "Luigi: 05116b7f-fe60-4c0f-991e-afb37b6d5908\n"
     ]
    }
   ],
   "source": [
    "users = {\"Mario\": 1, \"Luigi\": 2}\n",
    "\n",
    "for k, v in users.items():\n",
    "    print(k, v, sep=\": \")\n",
    "\n",
    "# Give truly unique identifier\n",
    "from uuid import uuid4\n",
    "\n",
    "users = {\"Mario\":uuid4(), \"Luigi\":uuid4()}\n",
    "for k, v in users.items():\n",
    "    print(k, v, sep=\": \")\n"
   ]
  },
  {
   "cell_type": "code",
   "execution_count": 96,
   "metadata": {},
   "outputs": [
    {
     "name": "stdout",
     "output_type": "stream",
     "text": [
      "5\n",
      "1\n"
     ]
    }
   ],
   "source": [
    "x = [1, 2, 1, 3, 5, 1, 2, 4, 1]\n",
    "\n",
    "most = max(x)\n",
    "print(most)         # returns biggest number\n",
    "\n",
    "most = max(x, key=x.count)\n",
    "print(most)         # returns number with most count"
   ]
  },
  {
   "cell_type": "code",
   "execution_count": 103,
   "metadata": {},
   "outputs": [
    {
     "name": "stdout",
     "output_type": "stream",
     "text": [
      "<__main__.Car object at 0x105ecb620>\n",
      "Car: Volvo\n",
      "<bound method Car.__repr__ of <__main__.Car object at 0x105cc3470>>\n"
     ]
    }
   ],
   "source": [
    "class Car:\n",
    "    def __init__(self, brand: str):\n",
    "        self.brand = brand\n",
    "\n",
    "car = Car(\"Volvo\")\n",
    "print(car)                  # returns object id\n",
    "\n",
    "class Car:\n",
    "    def __init__(self, brand: str):\n",
    "        self.brand = brand\n",
    "\n",
    "    def __str__(self) -> str:\n",
    "        return f\"Car: {self.brand}\"\n",
    "\n",
    "    def __repr__(self) -> str:\n",
    "        return object.__repr__(self)\n",
    "\n",
    "car = Car(\"Volvo\")\n",
    "print(car)                  # returns custom string\n",
    "print(car.__repr__)         # returns object id"
   ]
  },
  {
   "cell_type": "code",
   "execution_count": 107,
   "metadata": {},
   "outputs": [
    {
     "name": "stdout",
     "output_type": "stream",
     "text": [
      "var = 'text'\n",
      "pizza = __repr__\n"
     ]
    }
   ],
   "source": [
    "var = \"text\"\n",
    "print(f\"{var = }\")          # returns the representation\n",
    "\n",
    "\n",
    "class Pizza:\n",
    "    def __str__(self):\n",
    "        return \"__str__\"\n",
    "\n",
    "    def __repr__(self):\n",
    "        return \"__repr__\"\n",
    "\n",
    "pizza = Pizza()\n",
    "print(f\"{pizza = }\")        # returns the __repr__ even when __str__ has been mentioned\n"
   ]
  },
  {
   "cell_type": "code",
   "execution_count": 111,
   "metadata": {},
   "outputs": [
    {
     "name": "stdout",
     "output_type": "stream",
     "text": [
      "([1, 2], [3, 4])\n"
     ]
    }
   ],
   "source": [
    "# Are tuples mutable?\n",
    "\n",
    "my_tuple = (1, 2, 3)\n",
    "# my_tuple[0] = 5           # This will raise a TypeError\n",
    "\n",
    "\n",
    "myTuple = ([1, 2], [3])\n",
    "myTuple[1].append(4)        # appends to the inner list\n",
    "print(myTuple)\n",
    "\n",
    "# The tuple just holds pointers to arrays, the arrays themselves stay mutable.\n",
    "# The arrays in the tuple cant be swapped out for other arrays."
   ]
  },
  {
   "cell_type": "code",
   "execution_count": 1,
   "metadata": {},
   "outputs": [
    {
     "name": "stdout",
     "output_type": "stream",
     "text": [
      "[1, 2, 3, 4]\n",
      "[1, 3, 2, 4]\n"
     ]
    }
   ],
   "source": [
    "numbers: list[int] = [1, 1, 3, 3, 3, 2, 2, 1, 2, 3, 4, 4]\n",
    "\n",
    "print(list(set(numbers)))               # Using sets, changes order\n",
    "print(list(dict.fromkeys(numbers)))     # Using dict, preserves order"
   ]
  },
  {
   "cell_type": "code",
   "execution_count": 5,
   "metadata": {},
   "outputs": [
    {
     "name": "stdout",
     "output_type": "stream",
     "text": [
      "Barney\n",
      "Barney\n"
     ]
    },
    {
     "ename": "AttributeError",
     "evalue": "can't set attribute",
     "output_type": "error",
     "traceback": [
      "\u001b[0;31m---------------------------------------------------------------------------\u001b[0m",
      "\u001b[0;31mAttributeError\u001b[0m                            Traceback (most recent call last)",
      "Cell \u001b[0;32mIn[5], line 13\u001b[0m\n\u001b[1;32m     10\u001b[0m \u001b[38;5;28mprint\u001b[39m(my_name\u001b[38;5;241m.\u001b[39mfirst)\n\u001b[1;32m     12\u001b[0m \u001b[38;5;66;03m# my_name[0] = \"Garfield\"         # TypeError\u001b[39;00m\n\u001b[0;32m---> 13\u001b[0m \u001b[43mmy_name\u001b[49m\u001b[38;5;241;43m.\u001b[39;49m\u001b[43mfirst\u001b[49m \u001b[38;5;241m=\u001b[39m \u001b[38;5;124m\"\u001b[39m\u001b[38;5;124mGarfield\u001b[39m\u001b[38;5;124m\"\u001b[39m\n\u001b[1;32m     14\u001b[0m \u001b[38;5;28mprint\u001b[39m(my_name\u001b[38;5;241m.\u001b[39mfirst)\n",
      "\u001b[0;31mAttributeError\u001b[0m: can't set attribute"
     ]
    }
   ],
   "source": [
    "# Collections\n",
    "\n",
    "# namedtuple\n",
    "from collections import namedtuple\n",
    "\n",
    "FullName = namedtuple(\"FullName\",(\"first\",\"middle\",\"last\"))\n",
    "my_name = FullName(\"Barney\",\"The\",\"Dinosaur\")\n",
    "\n",
    "print(my_name[0])\n",
    "print(my_name.first)\n",
    "\n",
    "# my_name[0] = \"Garfield\"         # TypeError\n",
    "my_name.first = \"Garfield\"\n",
    "print(my_name.first)"
   ]
  },
  {
   "cell_type": "code",
   "execution_count": 6,
   "metadata": {},
   "outputs": [
    {
     "name": "stdout",
     "output_type": "stream",
     "text": [
      "deque([0], maxlen=5)\n",
      "deque([0, 1], maxlen=5)\n",
      "deque([0, 1, 2], maxlen=5)\n",
      "deque([0, 1, 2, 3], maxlen=5)\n",
      "deque([0, 1, 2, 3, 4], maxlen=5)\n",
      "deque([1, 2, 3, 4, 5], maxlen=5)\n",
      "deque([2, 3, 4, 5, 6], maxlen=5)\n",
      "deque([3, 4, 5, 6, 7], maxlen=5)\n",
      "deque([4, 5, 6, 7, 8], maxlen=5)\n",
      "deque([5, 6, 7, 8, 9], maxlen=5)\n",
      "deque([4, 5, 6, 7, 8], maxlen=5)\n"
     ]
    }
   ],
   "source": [
    "from collections import deque\n",
    "\n",
    "numbers = deque([], maxlen=5)\n",
    "\n",
    "for i in range(10):\n",
    "    numbers.append(i)\n",
    "    print(numbers)\n",
    "\n",
    "numbers.appendleft(4)\n",
    "print(numbers)"
   ]
  },
  {
   "cell_type": "code",
   "execution_count": 9,
   "metadata": {},
   "outputs": [
    {
     "name": "stdout",
     "output_type": "stream",
     "text": [
      "defaultdict(<function factory at 0x1092dccc0>, {'Ethan': 8})\n",
      "defaultdict(<function <lambda> at 0x1092de660>, {'Ethan': 8})\n"
     ]
    }
   ],
   "source": [
    "from collections import defaultdict\n",
    "\n",
    "def factory():\n",
    "    return 7\n",
    "\n",
    "items = defaultdict(factory)\n",
    "items[\"Ethan\"] += 1\n",
    "print(items)\n",
    "\n",
    "\n",
    "items = defaultdict(lambda:7)\n",
    "items[\"Ethan\"] += 1\n",
    "print(items)"
   ]
  }
 ],
 "metadata": {
  "kernelspec": {
   "display_name": "Python 3",
   "language": "python",
   "name": "python3"
  },
  "language_info": {
   "codemirror_mode": {
    "name": "ipython",
    "version": 3
   },
   "file_extension": ".py",
   "mimetype": "text/x-python",
   "name": "python",
   "nbconvert_exporter": "python",
   "pygments_lexer": "ipython3",
   "version": "3.12.1"
  }
 },
 "nbformat": 4,
 "nbformat_minor": 2
}
