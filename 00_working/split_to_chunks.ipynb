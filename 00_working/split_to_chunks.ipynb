{
 "cells": [
  {
   "cell_type": "code",
   "execution_count": 12,
   "metadata": {},
   "outputs": [
    {
     "name": "stdout",
     "output_type": "stream",
     "text": [
      "<itertools.batched object at 0x10b8f1900>\n",
      "(1, 2, 3)\n",
      "(4, 5, 6)\n",
      "(7, 8, 9)\n",
      "[(10,)]\n"
     ]
    }
   ],
   "source": [
    "from itertools import batched\n",
    "\n",
    "data: list[int] = [1, 2, 3, 4, 5, 6, 7, 8, 9, 10]\n",
    "batch: batched = batched(data, n=3)\n",
    "print(batch)\n",
    "\n",
    "# print(list(batch))            # Returns [(1, 2, 3), (4, 5, 6), (7, 8, 9)]\n",
    "\n",
    "print(next(batch))\n",
    "print(next(batch))\n",
    "print(next(batch))\n",
    "\n",
    "print(list(batch))              # Returns empty"
   ]
  }
 ],
 "metadata": {
  "kernelspec": {
   "display_name": "Python 3",
   "language": "python",
   "name": "python3"
  },
  "language_info": {
   "codemirror_mode": {
    "name": "ipython",
    "version": 3
   },
   "file_extension": ".py",
   "mimetype": "text/x-python",
   "name": "python",
   "nbconvert_exporter": "python",
   "pygments_lexer": "ipython3",
   "version": "3.12.1"
  }
 },
 "nbformat": 4,
 "nbformat_minor": 2
}
