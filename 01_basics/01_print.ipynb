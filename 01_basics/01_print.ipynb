{
 "cells": [
  {
   "cell_type": "markdown",
   "metadata": {},
   "source": [
    "## print()\n",
    "\n",
    "The print() function prints the specified message to the screen.\n",
    "\n",
    "```python\n",
    "# Syntax\n",
    "print(object(s), sep=separator, end=end, file=file, flush=flush)\n",
    "```"
   ]
  },
  {
   "cell_type": "markdown",
   "metadata": {},
   "source": [
    "### Separator"
   ]
  },
  {
   "cell_type": "code",
   "execution_count": 42,
   "metadata": {},
   "outputs": [
    {
     "name": "stdout",
     "output_type": "stream",
     "text": [
      "Hello, World!\n",
      "Hello World 100\n",
      "Hello-World-100\n"
     ]
    }
   ],
   "source": [
    "# Print a message\n",
    "print(\"Hello, World!\")\n",
    "\n",
    "# Print multiple objects, will be separated by whitespace\n",
    "print(\"Hello\", \"World\", 100)\n",
    "\n",
    "# Print multiple objects, with custom separator\n",
    "print(\"Hello\", \"World\", 100, sep=\"-\")"
   ]
  },
  {
   "cell_type": "markdown",
   "metadata": {},
   "source": [
    "### End character"
   ]
  },
  {
   "cell_type": "code",
   "execution_count": 43,
   "metadata": {},
   "outputs": [
    {
     "name": "stdout",
     "output_type": "stream",
     "text": [
      "Hello\n",
      "World\n",
      "Hello World\n"
     ]
    }
   ],
   "source": [
    "# Print by default has the new line character\n",
    "print(\"Hello\")\n",
    "print(\"World\")\n",
    "\n",
    "# With end parameter, you can choose the customize the end character\n",
    "print(\"Hello\", end=\" \")\n",
    "print(\"World\")"
   ]
  },
  {
   "cell_type": "code",
   "execution_count": 44,
   "metadata": {},
   "outputs": [
    {
     "name": "stdout",
     "output_type": "stream",
     "text": [
      "Hello, World!\n",
      "Hello, World!"
     ]
    }
   ],
   "source": [
    "# Print using sep and end parameters\n",
    "print(\"Hello, World!\")\n",
    "print(\"Hello\", \"World\", sep=\", \", end=\"!\")"
   ]
  },
  {
   "cell_type": "markdown",
   "metadata": {},
   "source": [
    "### File"
   ]
  },
  {
   "cell_type": "code",
   "execution_count": 45,
   "metadata": {},
   "outputs": [],
   "source": [
    "# File parameter to export print output onto a file\n",
    "with open('output.txt', 'w') as f:\n",
    "    print(\"Hello, World!\", end=\"\", file=f)\n",
    "\n",
    "# New file named output.txt will be created with the following output\n",
    "# Hello, World!\n"
   ]
  },
  {
   "cell_type": "markdown",
   "metadata": {},
   "source": [
    "### Flush"
   ]
  },
  {
   "cell_type": "code",
   "execution_count": 46,
   "metadata": {},
   "outputs": [
    {
     "name": "stdout",
     "output_type": "stream",
     "text": [
      "Loading... Done!\n"
     ]
    }
   ],
   "source": [
    "# The following code will print out the message altogether after waiting for 5 seconds\n",
    "# Note: Example does not work well in Python Notebook file\n",
    "import time\n",
    "\n",
    "print(\"Loading...\", end=\"\")\n",
    "time.sleep(3)\n",
    "print(\" Done!\")"
   ]
  },
  {
   "cell_type": "code",
   "execution_count": 47,
   "metadata": {},
   "outputs": [
    {
     "name": "stdout",
     "output_type": "stream",
     "text": [
      "Loading... Done!\n"
     ]
    }
   ],
   "source": [
    "# With the flush parameter, the following code will print out the first string immediately\n",
    "# Then after 5 seconds will print the second string\n",
    "import time\n",
    "\n",
    "print(\"Loading...\", end=\"\", flush=True)\n",
    "time.sleep(3)\n",
    "print(\" Done!\")"
   ]
  }
 ],
 "metadata": {
  "kernelspec": {
   "display_name": "Python 3",
   "language": "python",
   "name": "python3"
  },
  "language_info": {
   "codemirror_mode": {
    "name": "ipython",
    "version": 3
   },
   "file_extension": ".py",
   "mimetype": "text/x-python",
   "name": "python",
   "nbconvert_exporter": "python",
   "pygments_lexer": "ipython3",
   "version": "3.12.1"
  }
 },
 "nbformat": 4,
 "nbformat_minor": 2
}
