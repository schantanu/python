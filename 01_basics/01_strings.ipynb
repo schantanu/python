{
 "cells": [
  {
   "cell_type": "markdown",
   "metadata": {},
   "source": [
    "## Strings and Characters\n",
    "\n",
    "- Operators\n",
    "    - Plus (+)\n",
    "    - Multiple (*)\n",
    "    - In"
   ]
  },
  {
   "cell_type": "code",
   "execution_count": 1,
   "metadata": {},
   "outputs": [
    {
     "name": "stdout",
     "output_type": "stream",
     "text": [
      "3\n",
      "foobar\n",
      "foobarbaz\n",
      "foo bar baz\n",
      "Go Team!!!\n"
     ]
    }
   ],
   "source": [
    "# + Operator\n",
    "s = 'foo'\n",
    "t = 'bar'\n",
    "u = 'baz'\n",
    "\n",
    "print(1+2)              # Summation, if integer\n",
    "print(s+t)              # Concatenates, if string\n",
    "print(s+t+u)\n",
    "print(s,t,u)            # Commas add a space\n",
    "\n",
    "print('Go Team' + '!!!')"
   ]
  },
  {
   "cell_type": "code",
   "execution_count": 2,
   "metadata": {},
   "outputs": [
    {
     "name": "stdout",
     "output_type": "stream",
     "text": [
      "foofoofoofoo\n",
      "foofoofoofoo\n",
      "\n",
      "\n"
     ]
    }
   ],
   "source": [
    "# * Operator\n",
    "s = 'foo'\n",
    "\n",
    "print(s * 4)\n",
    "print(4 * s)            # Multiple Operand n must be integer\n",
    "print(-4 * s)           # Negative will create an empty string\n",
    "print(0 * s)            # Zero will create an empty string"
   ]
  },
  {
   "cell_type": "code",
   "execution_count": 3,
   "metadata": {},
   "outputs": [
    {
     "name": "stdout",
     "output_type": "stream",
     "text": [
      "True\n",
      "False\n",
      "False\n",
      "True\n"
     ]
    }
   ],
   "source": [
    "# in Operator\n",
    "s = 'foo'\n",
    "\n",
    "print(s in 'There is food in the fridge.')          # Returns True\n",
    "print(s in 'Food for thought.')                     # Letter case needs to match, else False\n",
    "print(s in 'It\\'s all good.')                       # Returns False\n",
    "print(s not in 'Crouching Tiger, Hidden Dragon')    # NOT IN checks the opposite"
   ]
  },
  {
   "cell_type": "markdown",
   "metadata": {},
   "source": [
    "### String Functions"
   ]
  },
  {
   "cell_type": "code",
   "execution_count": 4,
   "metadata": {},
   "outputs": [
    {
     "name": "stdout",
     "output_type": "stream",
     "text": [
      "97\n",
      "35\n",
      "8364\n",
      "8721\n"
     ]
    }
   ],
   "source": [
    "# Built-in String functions\n",
    "# ord()             # Returns an integer value of a character\n",
    "\n",
    "print(ord('a'))\n",
    "print(ord('#'))\n",
    "print(ord('€'))\n",
    "print(ord('∑'))"
   ]
  },
  {
   "cell_type": "code",
   "execution_count": 5,
   "metadata": {},
   "outputs": [
    {
     "name": "stdout",
     "output_type": "stream",
     "text": [
      "5 is of type <class 'int'>\n",
      "2.0 is of type <class 'float'>\n",
      "(1+2j) is complex number? True\n"
     ]
    }
   ],
   "source": [
    "a = 5\n",
    "print(a, \"is of type\", type(a))\n",
    "\n",
    "a = 2.0\n",
    "print(a, \"is of type\", type(a))\n",
    "\n",
    "a = 1+2j\n",
    "print(a, \"is complex number?\", isinstance(1+2j,complex))"
   ]
  }
 ],
 "metadata": {
  "kernelspec": {
   "display_name": "Python 3",
   "language": "python",
   "name": "python3"
  },
  "language_info": {
   "codemirror_mode": {
    "name": "ipython",
    "version": 3
   },
   "file_extension": ".py",
   "mimetype": "text/x-python",
   "name": "python",
   "nbconvert_exporter": "python",
   "pygments_lexer": "ipython3",
   "version": "3.12.1"
  }
 },
 "nbformat": 4,
 "nbformat_minor": 2
}
