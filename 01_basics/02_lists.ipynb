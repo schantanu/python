{
 "cells": [
  {
   "cell_type": "markdown",
   "metadata": {},
   "source": [
    "## Lists"
   ]
  },
  {
   "cell_type": "code",
   "execution_count": 19,
   "metadata": {},
   "outputs": [
    {
     "name": "stdout",
     "output_type": "stream",
     "text": [
      "Add and Update:\n",
      " ['Johnny', 'Jane', 'Jim', 'Jessica', 'Timmy', ['Timmy', 'Tom'], 'Sam', 'Mike']\n",
      "\n",
      "Delete:\n",
      "['Jim', 'Jessica', 'Timmy', 'Sam']\n",
      "\n"
     ]
    }
   ],
   "source": [
    "# Add, Update and Delete\n",
    "\n",
    "names = [\"John\", \"Jane\", \"Jim\", \"Jessica\"]\n",
    "\n",
    "# Add and Update\n",
    "names.append(\"Timmy\")               # Add an item, at the end of list\n",
    "names.append([\"Timmy\", \"Tom\"])      # Appends a list of names to the end\n",
    "names.extend([\"Sam\", \"Mike\"])       # Add multiple names to the list at the end\n",
    "names[0] = \"Johnny\"                 # Update by specific index\n",
    "print(f\"Add and Update:\\n {names}\\n\")\n",
    "\n",
    "# Delete\n",
    "names.remove(\"Jane\")                # Remove name by value, removes first occurence\n",
    "del(names[0])                       # Remove name by index, i.e., the first item\n",
    "names.pop()                         # Remove end item at the end of the list\n",
    "names.pop(3)                        # Remove name by index, removes end item if index not specified\n",
    "print(f\"Delete:\\n{names}\\n\")"
   ]
  },
  {
   "cell_type": "markdown",
   "metadata": {},
   "source": [
    "### Loop through list"
   ]
  },
  {
   "cell_type": "code",
   "execution_count": 20,
   "metadata": {},
   "outputs": [
    {
     "name": "stdout",
     "output_type": "stream",
     "text": [
      "Loop:\n",
      "John\n",
      "Jane\n",
      "Jim\n",
      "Jessica\n",
      "\n",
      "Enumerate:\n",
      "0 John\n",
      "1 Jane\n",
      "2 Jim\n",
      "3 Jessica\n"
     ]
    }
   ],
   "source": [
    "names = [\"John\", \"Jane\", \"Jim\", \"Jessica\"]\n",
    "\n",
    "print(\"Loop:\")\n",
    "# Loop through list\n",
    "for name in names:\n",
    "    print(name)\n",
    "\n",
    "print(\"\\nEnumerate:\")\n",
    "# Loop through list, while enumerating\n",
    "for index, name in enumerate(names):\n",
    "    print(index, name)"
   ]
  },
  {
   "cell_type": "markdown",
   "metadata": {},
   "source": [
    "### List Functions"
   ]
  },
  {
   "cell_type": "code",
   "execution_count": 21,
   "metadata": {},
   "outputs": [
    {
     "name": "stdout",
     "output_type": "stream",
     "text": [
      "3\n",
      "2\n",
      "1\n",
      "Element exists\n",
      "Element does not exist\n",
      "<class 'list'> [5]\n"
     ]
    },
    {
     "ename": "ValueError",
     "evalue": "2 is not in list",
     "output_type": "error",
     "traceback": [
      "\u001b[0;31m---------------------------------------------------------------------------\u001b[0m",
      "\u001b[0;31mValueError\u001b[0m                                Traceback (most recent call last)",
      "Cell \u001b[0;32mIn[21], line 27\u001b[0m\n\u001b[1;32m     23\u001b[0m my_list\u001b[38;5;241m.\u001b[39mcount(\u001b[38;5;241m1\u001b[39m)\n\u001b[1;32m     25\u001b[0m my_list\u001b[38;5;241m.\u001b[39mextend([\u001b[38;5;241m6\u001b[39m,\u001b[38;5;241m7\u001b[39m])\n\u001b[0;32m---> 27\u001b[0m \u001b[43mmy_list\u001b[49m\u001b[38;5;241;43m.\u001b[39;49m\u001b[43mindex\u001b[49m\u001b[43m(\u001b[49m\u001b[38;5;241;43m2\u001b[39;49m\u001b[43m)\u001b[49m\n\u001b[1;32m     29\u001b[0m my_list\u001b[38;5;241m.\u001b[39minsert(\u001b[38;5;241m1\u001b[39m,\u001b[38;5;241m3\u001b[39m)\n\u001b[1;32m     31\u001b[0m element \u001b[38;5;241m=\u001b[39m my_list\u001b[38;5;241m.\u001b[39mpop(\u001b[38;5;241m1\u001b[39m)\n",
      "\u001b[0;31mValueError\u001b[0m: 2 is not in list"
     ]
    }
   ],
   "source": [
    "my_list = [1, 2, 3]\n",
    "len(my_list)\n",
    "min(my_list)\n",
    "max(my_list)\n",
    "sorted(my_list)\n",
    "\n",
    "for item in reversed(my_list):\n",
    "    print(item)\n",
    "\n",
    "if 1 in my_list:\n",
    "    print(\"Element exists\")\n",
    "\n",
    "if 5 not in my_list:\n",
    "    print(\"Element does not exist\")\n",
    "\n",
    "my_list.append(4)\n",
    "my_list.clear()\n",
    "\n",
    "new_list = my_list.copy()\n",
    "new_list.append(5)\n",
    "print(list, new_list)\n",
    "\n",
    "my_list.count(1)\n",
    "\n",
    "my_list.extend([6,7])\n",
    "\n",
    "my_list.index(2)\n",
    "\n",
    "my_list.insert(1,3)\n",
    "\n",
    "element = my_list.pop(1)\n",
    "print(element, my_list)\n",
    "\n",
    "my_list.remove(2)\n",
    "\n",
    "my_list.reverse()\n",
    "\n",
    "my_list.sort()\n",
    "\n",
    "nlist = list(\"abc\")\n",
    "print(nlist)\n",
    "\n",
    "# all([True, True, True]) = True\n",
    "# any([False, True, False])"
   ]
  },
  {
   "cell_type": "markdown",
   "metadata": {},
   "source": [
    "### List Comprehension"
   ]
  },
  {
   "cell_type": "code",
   "execution_count": null,
   "metadata": {},
   "outputs": [
    {
     "name": "stdout",
     "output_type": "stream",
     "text": [
      "Time using the list_comprehension: 0.0475461483001709 sec\n",
      "Time using the list_comprehension: 0.0644690990447998 sec\n",
      "Difference in time: 35.59268489592474%\n"
     ]
    }
   ],
   "source": [
    "import time\n",
    "\n",
    "list_comp_start_time = time.time()\n",
    "result = [i * i for i in range(0, 1000000)]\n",
    "list_comp_end_time = time.time()\n",
    "print(\"Time using the list_comprehension: {} sec\".format(list_comp_end_time - list_comp_start_time))\n",
    "\n",
    "# For loop\n",
    "for_loop_start_time = time.time()\n",
    "result = []\n",
    "for i in range(0, 1000000):\n",
    "    result.append(i*i)\n",
    "for_loop_end_time = time.time()\n",
    "print(\"Time using the list_comprehension: {} sec\".format(for_loop_end_time - for_loop_start_time))\n",
    "\n",
    "list_comp_time = list_comp_end_time - list_comp_start_time\n",
    "for_loop_time = for_loop_end_time - for_loop_start_time\n",
    "\n",
    "print(\"Difference in time: {}%\".format((for_loop_time - list_comp_time)/list_comp_time * 100))"
   ]
  }
 ],
 "metadata": {
  "kernelspec": {
   "display_name": "Python 3",
   "language": "python",
   "name": "python3"
  },
  "language_info": {
   "codemirror_mode": {
    "name": "ipython",
    "version": 3
   },
   "file_extension": ".py",
   "mimetype": "text/x-python",
   "name": "python",
   "nbconvert_exporter": "python",
   "pygments_lexer": "ipython3",
   "version": "3.12.1"
  }
 },
 "nbformat": 4,
 "nbformat_minor": 2
}
