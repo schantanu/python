{
 "cells": [
  {
   "cell_type": "markdown",
   "metadata": {},
   "source": [
    "## Strings and Characters\n",
    "\n",
    "- Operators\n",
    "    - Plus (+)\n",
    "    - Multiple (*)\n",
    "    - In"
   ]
  },
  {
   "cell_type": "markdown",
   "metadata": {},
   "source": [
    "### Type Hinting"
   ]
  },
  {
   "cell_type": "code",
   "execution_count": null,
   "metadata": {},
   "outputs": [],
   "source": [
    "msg = \"Hello, World!\"\n",
    "msg2 = 'Hello, World!'              # can use single quote\n",
    "msg3 = 'Bobby\\'s World!'            # add escape character for apostrophe\n",
    "msg4 = \"\"\"\n",
    "This is a multi-line statement.\n",
    "With many lines.\n",
    "\"\"\"\n",
    "\n",
    "print(len(msg))\n",
    "print(msg[0])                       # access the nth character\n",
    "# print(msg[13])                    # will throw an error, as does not exist\n",
    "print(msg[0:5])                     # range of index with first is inclusive, last as exclusive\n",
    "print(msg[:5])                      # same as above\n",
    "print(msg[7:])"
   ]
  },
  {
   "cell_type": "code",
   "execution_count": null,
   "metadata": {},
   "outputs": [],
   "source": [
    "# String Methods\n",
    "# Methods and Functions are the same thing\n",
    "# Methods belong to an object\n",
    "\n",
    "msg = \"Hello, World!\"\n",
    "\n",
    "print(msg.lower())\n",
    "print(msg.upper())\n",
    "print(msg.count('l'))                       # count occurence of a string\n",
    "print(msg.find(\"World\"))                    # 7\n",
    "print(msg.find(\"Universe\"))                 # -1 if unable to find\n",
    "print(msg.replace(\"World\",\"Universe\"))      # will replace inplace\n",
    "print(msg)                                  # does not affect original string\n",
    "\n",
    "greeting = \"Hello\"\n",
    "name = \"John\"\n",
    "message = greeting + name\n",
    "print(message)\n",
    "message = greeting + \", \" + name + \"!\"\n",
    "print(message)\n",
    "print(greeting,\",\",name,\"!\")\n",
    "\n",
    "print( \"{}, {}!\".format(greeting, name))\n",
    "print(f\"{greeting}, {name}!\")\n",
    "print(f\"{greeting}, {name.upper()}!\")\n"
   ]
  },
  {
   "cell_type": "code",
   "execution_count": null,
   "metadata": {},
   "outputs": [],
   "source": [
    "name = \"John\"\n",
    "print(dir(name))    # List of attributes and methods available for the object\n",
    "\n",
    "print(help(str.lower))\n",
    "print(help(str))"
   ]
  },
  {
   "cell_type": "code",
   "execution_count": null,
   "metadata": {},
   "outputs": [],
   "source": [
    "# Arithmetic Operators:\n",
    "\n",
    "# Addition          : 3 + 2  = 5\n",
    "# Subtraction       : 3 - 2  = 1\n",
    "# Multiplication    : 3 * 2  = 6\n",
    "# Division          : 3 / 2  = 1.5\n",
    "# Floor Division    : 3 // 2 = 1\n",
    "# Exponent          : 3 ** 2 = 9\n",
    "# Modulus(Odd)      : 3 % 2  = 1\n",
    "# Modulus(Even)     : 4 % 2  = 0\n",
    "\n",
    "print(3 * 2 + 1)    # 7 - Follow PEMDAS\n",
    "\n",
    "num = 1\n",
    "num += 1                # num = num + 1\n",
    "print(num)              # 2\n",
    "\n",
    "num *= 10               # num = num * 10\n",
    "print(num)              # 20\n",
    "\n",
    "print(abs(-3))          # absolute\n",
    "\n",
    "print(round(3.75))      # 4\n",
    "print(round(3.7456,3))  # 3.746\n",
    "\n",
    "# Comparisons:\n",
    "\n",
    "# Equal             : 3 == 2\n",
    "# Not Equal         : 3 != 2\n",
    "# Greater Than      : 3 > 2\n",
    "# Less Than         : 3 < 2\n",
    "# Greater or Equal  : 3 >= 2\n",
    "# Less or Equal     : 3 <= 2\n",
    "\n",
    "print(3>=2)             # True\n",
    "\n",
    "num_1 = \"100\"\n",
    "num_2 = \"200\"\n",
    "print(num_1 + num_2)                # 100200\n",
    "print(int(num_1) + int(num_2))      # 300\n"
   ]
  },
  {
   "cell_type": "markdown",
   "metadata": {},
   "source": [
    "# Strings"
   ]
  },
  {
   "cell_type": "code",
   "execution_count": 5,
   "metadata": {},
   "outputs": [
    {
     "name": "stdout",
     "output_type": "stream",
     "text": [
      "Name: Alice, Age: 30\n",
      "Hello, Alice!\n",
      "['Mario', 'Luigi', 'James']\n"
     ]
    }
   ],
   "source": [
    "name: str = \"Alice\"\n",
    "age: int = 30\n",
    "\n",
    "print(f\"Name: {name}, Age: {age}\")\n",
    "\n",
    "\n",
    "def greet(name: str) -> str:\n",
    "    return f\"Hello, {name}!\"\n",
    "\n",
    "print(greet(name))\n",
    "\n",
    "users: list[str] = [\"Mario\",\"Luigi\",\"James\"]\n",
    "print(users)"
   ]
  },
  {
   "cell_type": "code",
   "execution_count": 1,
   "metadata": {},
   "outputs": [
    {
     "name": "stdout",
     "output_type": "stream",
     "text": [
      "3\n",
      "foobar\n",
      "foobarbaz\n",
      "foo bar baz\n",
      "Go Team!!!\n"
     ]
    }
   ],
   "source": [
    "# + Operator\n",
    "s = 'foo'\n",
    "t = 'bar'\n",
    "u = 'baz'\n",
    "\n",
    "print(1+2)              # Summation, if integer\n",
    "print(s+t)              # Concatenates, if string\n",
    "print(s+t+u)\n",
    "print(s,t,u)            # Commas add a space\n",
    "\n",
    "print('Go Team' + '!!!')"
   ]
  },
  {
   "cell_type": "code",
   "execution_count": 2,
   "metadata": {},
   "outputs": [
    {
     "name": "stdout",
     "output_type": "stream",
     "text": [
      "foofoofoofoo\n",
      "foofoofoofoo\n",
      "\n",
      "\n"
     ]
    }
   ],
   "source": [
    "# * Operator\n",
    "s = 'foo'\n",
    "\n",
    "print(s * 4)\n",
    "print(4 * s)            # Multiple Operand n must be integer\n",
    "print(-4 * s)           # Negative will create an empty string\n",
    "print(0 * s)            # Zero will create an empty string"
   ]
  },
  {
   "cell_type": "code",
   "execution_count": 3,
   "metadata": {},
   "outputs": [
    {
     "name": "stdout",
     "output_type": "stream",
     "text": [
      "True\n",
      "False\n",
      "False\n",
      "True\n"
     ]
    }
   ],
   "source": [
    "# in Operator\n",
    "s = 'foo'\n",
    "\n",
    "print(s in 'There is food in the fridge.')          # Returns True\n",
    "print(s in 'Food for thought.')                     # Letter case needs to match, else False\n",
    "print(s in 'It\\'s all good.')                       # Returns False\n",
    "print(s not in 'Crouching Tiger, Hidden Dragon')    # NOT IN checks the opposite"
   ]
  },
  {
   "cell_type": "markdown",
   "metadata": {},
   "source": [
    "### String Functions"
   ]
  },
  {
   "cell_type": "code",
   "execution_count": 4,
   "metadata": {},
   "outputs": [
    {
     "name": "stdout",
     "output_type": "stream",
     "text": [
      "97\n",
      "35\n",
      "8364\n",
      "8721\n"
     ]
    }
   ],
   "source": [
    "# Built-in String functions\n",
    "# ord()             # Returns an integer value of a character\n",
    "\n",
    "print(ord('a'))\n",
    "print(ord('#'))\n",
    "print(ord('€'))\n",
    "print(ord('∑'))"
   ]
  },
  {
   "cell_type": "code",
   "execution_count": 5,
   "metadata": {},
   "outputs": [
    {
     "name": "stdout",
     "output_type": "stream",
     "text": [
      "5 is of type <class 'int'>\n",
      "2.0 is of type <class 'float'>\n",
      "(1+2j) is complex number? True\n"
     ]
    }
   ],
   "source": [
    "a = 5\n",
    "print(a, \"is of type\", type(a))\n",
    "\n",
    "a = 2.0\n",
    "print(a, \"is of type\", type(a))\n",
    "\n",
    "a = 1+2j\n",
    "print(a, \"is complex number?\", isinstance(1+2j,complex))"
   ]
  }
 ],
 "metadata": {
  "kernelspec": {
   "display_name": "Python 3",
   "language": "python",
   "name": "python3"
  },
  "language_info": {
   "codemirror_mode": {
    "name": "ipython",
    "version": 3
   },
   "file_extension": ".py",
   "mimetype": "text/x-python",
   "name": "python",
   "nbconvert_exporter": "python",
   "pygments_lexer": "ipython3",
   "version": "3.12.1"
  }
 },
 "nbformat": 4,
 "nbformat_minor": 2
}
