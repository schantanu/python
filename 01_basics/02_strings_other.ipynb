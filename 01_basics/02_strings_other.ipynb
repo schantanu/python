{
 "cells": [
  {
   "cell_type": "markdown",
   "metadata": {},
   "source": [
    "# String\n",
    "\n",
    "- String Introduction\n",
    "- String Slicing\n",
    "- String Operations\n",
    "- Format Strings"
   ]
  },
  {
   "cell_type": "code",
   "execution_count": 1,
   "metadata": {},
   "outputs": [],
   "source": [
    "# To enable multiple outputs from one cell\n",
    "from IPython.core.interactiveshell import InteractiveShell\n",
    "InteractiveShell.ast_node_interactivity = \"all\""
   ]
  },
  {
   "cell_type": "markdown",
   "metadata": {},
   "source": [
    "## String Introduction"
   ]
  },
  {
   "cell_type": "code",
   "execution_count": 2,
   "metadata": {
    "tags": []
   },
   "outputs": [
    {
     "name": "stdout",
     "output_type": "stream",
     "text": [
      "Hi, World!\n"
     ]
    },
    {
     "ename": "TypeError",
     "evalue": "'str' object does not support item assignment",
     "output_type": "error",
     "traceback": [
      "\u001b[0;31m---------------------------------------------------------------------------\u001b[0m",
      "\u001b[0;31mTypeError\u001b[0m                                 Traceback (most recent call last)",
      "Cell \u001b[0;32mIn[2], line 13\u001b[0m\n\u001b[1;32m      9\u001b[0m \u001b[38;5;28mprint\u001b[39m(single_quote)\n\u001b[1;32m     11\u001b[0m \u001b[38;5;66;03m# Below we are trying to update the string itself\u001b[39;00m\n\u001b[1;32m     12\u001b[0m \u001b[38;5;66;03m# which thorws an error that 'str' object does not support item assignment\u001b[39;00m\n\u001b[0;32m---> 13\u001b[0m \u001b[43msingle_quote\u001b[49m\u001b[43m[\u001b[49m\u001b[38;5;241;43m0\u001b[39;49m\u001b[43m]\u001b[49m \u001b[38;5;241m=\u001b[39m \u001b[38;5;124m\"\u001b[39m\u001b[38;5;124mHi\u001b[39m\u001b[38;5;124m\"\u001b[39m\n\u001b[1;32m     14\u001b[0m \u001b[38;5;28mprint\u001b[39m(single_quote)\n",
      "\u001b[0;31mTypeError\u001b[0m: 'str' object does not support item assignment"
     ]
    }
   ],
   "source": [
    "single_quote = 'Hello, World!'\n",
    "double_quote = \"Hello, World!\"\n",
    "triple_quote = \"\"\"Hello,\n",
    "World!\"\"\"\n",
    "\n",
    "# Strings are immutable\n",
    "# Below the variable is pointing to a new string\n",
    "single_quote = \"Hi, World!\"\n",
    "print(single_quote)\n",
    "\n",
    "# Below we are trying to update the string itself\n",
    "# which thorws an error that 'str' object does not support item assignment\n",
    "single_quote[0] = \"Hi\"\n",
    "print(single_quote)"
   ]
  },
  {
   "cell_type": "markdown",
   "metadata": {},
   "source": [
    "## String Slicing"
   ]
  },
  {
   "cell_type": "code",
   "execution_count": null,
   "metadata": {
    "tags": []
   },
   "outputs": [
    {
     "name": "stdout",
     "output_type": "stream",
     "text": [
      "C\n",
      ".\n",
      "Chocolate\n",
      "Cookie.\n",
      "Chocolate\n",
      "Cookie\n",
      "12345\n",
      "0504030201\n",
      "00000\n"
     ]
    }
   ],
   "source": [
    "snack = \"Chocolate Cookie.\"\n",
    "\n",
    "print(snack[0])                                     # First character\n",
    "print(snack[-1])                                    # Last character\n",
    "print(snack[:9])                                    # Without specifying start index\n",
    "print(snack[10:])                                   # Without specifying stop index\n",
    "print(snack[0:9])                                   # Extract string [include : exclude]\n",
    "print(snack[10:-1])                                 # Extract string [include : exclude]\n",
    "\n",
    "# Stride\n",
    "# Stride is optional third argument, default set to 1\n",
    "# Takes in argument of how many characters you want to move forward\n",
    "number_string = \"1020304050\"\n",
    "print(number_string[0:-1:2])\n",
    "\n",
    "# Reverse a string with Stride\n",
    "print(number_string[::-1])\n",
    "print(number_string[::-2])"
   ]
  },
  {
   "cell_type": "markdown",
   "metadata": {},
   "source": [
    "## String Operations"
   ]
  },
  {
   "cell_type": "code",
   "execution_count": null,
   "metadata": {
    "tags": []
   },
   "outputs": [
    {
     "name": "stdout",
     "output_type": "stream",
     "text": [
      "Chocolate Cookie\n",
      "Chocolate Cookie\n"
     ]
    }
   ],
   "source": [
    "string1 = \"Chocolate\"\n",
    "string2 = \"Cookie\"\n",
    "\n",
    "snack = string1 + ' ' + string2\n",
    "print(snack)\n",
    "\n",
    "print(string1, string2)"
   ]
  },
  {
   "cell_type": "code",
   "execution_count": null,
   "metadata": {
    "tags": []
   },
   "outputs": [
    {
     "data": {
      "text/plain": [
       "int"
      ]
     },
     "execution_count": 18,
     "metadata": {},
     "output_type": "execute_result"
    },
    {
     "name": "stdout",
     "output_type": "stream",
     "text": [
      "The total in Euro is: 15\n",
      "Well, Well, Well, What do we have here?\n"
     ]
    },
    {
     "data": {
      "text/plain": [
       "6"
      ]
     },
     "execution_count": 18,
     "metadata": {},
     "output_type": "execute_result"
    },
    {
     "name": "stdout",
     "output_type": "stream",
     "text": [
      "There is ice in ice cream\n",
      "Phew! No glue in ice cream\n"
     ]
    }
   ],
   "source": [
    "cost = 15\n",
    "string1 = \"The total in Euro is: \"\n",
    "\n",
    "# Check type of variable\n",
    "type(cost)\n",
    "\n",
    "# String Concatenation\n",
    "# Below will throw an error, as cost is not str\n",
    "# bill = string1 + cost\n",
    "bill = string1 + str(cost)\n",
    "print(bill)\n",
    "\n",
    "# Strings can be repeated\n",
    "string = \"Well, \"\n",
    "print(string * 3 + \"What do we have here?\")\n",
    "\n",
    "# Find length of string using len() function\n",
    "len(string)\n",
    "\n",
    "# Check membership\n",
    "sub_str1 = \"ice\"\n",
    "sub_str2 = \"glue\"\n",
    "string1 = \"ice cream\"\n",
    "\n",
    "if sub_str1 in string1:\n",
    "    print(\"There is \" + sub_str1 + \" in \" + string1)\n",
    "\n",
    "if sub_str2 not in string1:\n",
    "    print(\"Phew! No \" + sub_str2 + \" in \" + string1)"
   ]
  },
  {
   "cell_type": "markdown",
   "metadata": {},
   "source": [
    "## String in-built Functions"
   ]
  },
  {
   "cell_type": "code",
   "execution_count": null,
   "metadata": {
    "tags": []
   },
   "outputs": [
    {
     "name": "stdout",
     "output_type": "stream",
     "text": [
      "Cookie\n",
      "COOKIE\n",
      "cookie\n",
      "False\n",
      "True\n",
      "0\n",
      "12\n",
      "2\n",
      "True\n",
      "True\n",
      "True\n",
      "Hello\n",
      "True\n",
      "Hip Hip Hurray!\n",
      "['Cake', ' Cookie', ' Icecream']\n"
     ]
    }
   ],
   "source": [
    "snack = \"cookie\"\n",
    "\n",
    "# Find all functions\n",
    "# help(str)\n",
    "\n",
    "print(snack.capitalize())\n",
    "print(snack.upper())\n",
    "print(snack.lower())\n",
    "print(snack.isupper())\n",
    "print(snack.islower())\n",
    "print(snack.find(\"cook\"))                  # Returns index if match\n",
    "\n",
    "# Find inside string\n",
    "str1 = \"I got you a cookie\"\n",
    "str2 = \"cookie\"\n",
    "print(str1.find(str2))\n",
    "\n",
    "# Count of Value\n",
    "str1 = \"I got you a cookie. Do you like cookies?\"\n",
    "print(str1.count(\"cookie\"))\n",
    "\n",
    "# Check for whitespace\n",
    "str_space = \"  \"\n",
    "str_tab = \"\\t\"\n",
    "str_nextline = \"\\n\"\n",
    "\n",
    "print(str_space.isspace())\n",
    "print(str_tab.isspace())\n",
    "print(str_nextline.isspace())\n",
    "\n",
    "# Remove leading whitespace\n",
    "str1 = \" Hello\"\n",
    "print(str1.lstrip())\n",
    "\n",
    "# Check if Digit\n",
    "number_string = \"1020304050\"\n",
    "print(number_string.isdigit())\n",
    "\n",
    "# Replace string\n",
    "string1 = \"hop hop Hurray!\"\n",
    "print(string1.replace(\"hop\", \"Hip\"))\n",
    "\n",
    "# Split a String and convert to a list\n",
    "dessert = 'Cake, Cookie, Icecream'\n",
    "list_dessert = dessert.split(',')\n",
    "print(list_dessert)"
   ]
  },
  {
   "cell_type": "markdown",
   "metadata": {},
   "source": [
    "## String Formatting"
   ]
  },
  {
   "cell_type": "code",
   "execution_count": null,
   "metadata": {
    "tags": []
   },
   "outputs": [
    {
     "name": "stdout",
     "output_type": "stream",
     "text": [
      "Peter Parker is weak, but wait till he transforms to Spiderman.\n",
      "The value of Pi is 3.142857142857143\n",
      "The value of Pi is 3.14286\n"
     ]
    }
   ],
   "source": [
    "# Formatted String Literal (f-string)\n",
    "# Available in Python 3.6 version\n",
    "\n",
    "alter_ego = \"Peter Parker\"\n",
    "superhero = \"Spiderman\"\n",
    "\n",
    "print(f\"{alter_ego} is weak, but wait till he transforms to {superhero}.\")\n",
    "\n",
    "# Formatting Numbers\n",
    "x = 22/7\n",
    "print(f\"The value of Pi is {x}\")\n",
    "print(f\"The value of Pi is {x:.5f}\")"
   ]
  }
 ],
 "metadata": {
  "kernelspec": {
   "display_name": "Python 3",
   "language": "python",
   "name": "python3"
  },
  "language_info": {
   "codemirror_mode": {
    "name": "ipython",
    "version": 3
   },
   "file_extension": ".py",
   "mimetype": "text/x-python",
   "name": "python",
   "nbconvert_exporter": "python",
   "pygments_lexer": "ipython3",
   "version": "3.12.1"
  },
  "orig_nbformat": 2
 },
 "nbformat": 4,
 "nbformat_minor": 2
}
