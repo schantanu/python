{
 "cells": [
  {
   "cell_type": "markdown",
   "metadata": {},
   "source": [
    "## Lists"
   ]
  },
  {
   "cell_type": "code",
   "execution_count": 4,
   "metadata": {},
   "outputs": [
    {
     "name": "stdout",
     "output_type": "stream",
     "text": [
      "Add and Update:\n",
      " ['Johnny', 'Jane', 'Jim', 'Jessica', 'Timmy', ['Timmy', 'Tom'], 'Sam', 'Mike']\n",
      "\n",
      "Delete:\n",
      "['Jim', 'Jessica', 'Timmy', 'Sam']\n",
      "\n"
     ]
    }
   ],
   "source": [
    "# Add, Update and Delete\n",
    "\n",
    "names = [\"John\", \"Jane\", \"Jim\", \"Jessica\"]\n",
    "\n",
    "# Add and Update\n",
    "names.append(\"Timmy\")                   # Add an item, at the end of list\n",
    "names.append([\"Timmy\", \"Tom\"])          # Appends a list of names to the end\n",
    "names.extend([\"Sam\", \"Mike\"])           # Add multiple names to the list at the end\n",
    "names[0] = \"Johnny\"                     # Update by specific index\n",
    "print(f\"Add and Update:\\n {names}\\n\")\n",
    "\n",
    "# Delete\n",
    "names.remove(\"Jane\")                    # Remove name by value, removes first occurence\n",
    "del(names[0])                           # Remove name by index, i.e., the first item\n",
    "names.pop()                             # Remove end item at the end of the list\n",
    "names.pop(3)                            # Remove name by index, removes end item if index not specified\n",
    "print(f\"Delete:\\n{names}\\n\")"
   ]
  },
  {
   "cell_type": "markdown",
   "metadata": {},
   "source": [
    "### Loop through list"
   ]
  },
  {
   "cell_type": "code",
   "execution_count": 12,
   "metadata": {},
   "outputs": [
    {
     "name": "stdout",
     "output_type": "stream",
     "text": [
      "John\n",
      "Jane\n",
      "Jim\n",
      "Jessica\n",
      "0 John\n",
      "1 Jane\n",
      "2 Jim\n",
      "3 Jessica\n",
      "(0, 'John')\n",
      "(1, 'Jane')\n",
      "(2, 'Jim')\n",
      "(3, 'Jessica')\n",
      "100 John\n",
      "101 Jane\n",
      "102 Jim\n",
      "103 Jessica\n"
     ]
    }
   ],
   "source": [
    "names = [\"John\", \"Jane\", \"Jim\", \"Jessica\"]\n",
    "\n",
    "# Loop through list\n",
    "for name in names:\n",
    "    print(name)\n",
    "\n",
    "# Enumerate\n",
    "for index, name in enumerate(names):\n",
    "    print(index, name)\n",
    "\n",
    "# Enumerate with tuples in objects\n",
    "for name in enumerate(names):\n",
    "    print(name)\n",
    "\n",
    "# Enumerate with a starting point\n",
    "for index, name in enumerate(names, start=100):\n",
    "    print(index, name)\n"
   ]
  },
  {
   "cell_type": "markdown",
   "metadata": {},
   "source": [
    "### List Functions"
   ]
  },
  {
   "cell_type": "code",
   "execution_count": 6,
   "metadata": {},
   "outputs": [
    {
     "name": "stdout",
     "output_type": "stream",
     "text": [
      "3\n",
      "2\n",
      "1\n",
      "Element exists\n",
      "Element does not exist\n",
      "<class 'list'> [5]\n"
     ]
    },
    {
     "ename": "ValueError",
     "evalue": "2 is not in list",
     "output_type": "error",
     "traceback": [
      "\u001b[0;31m---------------------------------------------------------------------------\u001b[0m",
      "\u001b[0;31mValueError\u001b[0m                                Traceback (most recent call last)",
      "Cell \u001b[0;32mIn[6], line 27\u001b[0m\n\u001b[1;32m     23\u001b[0m my_list\u001b[38;5;241m.\u001b[39mcount(\u001b[38;5;241m1\u001b[39m)\n\u001b[1;32m     25\u001b[0m my_list\u001b[38;5;241m.\u001b[39mextend([\u001b[38;5;241m6\u001b[39m,\u001b[38;5;241m7\u001b[39m])\n\u001b[0;32m---> 27\u001b[0m \u001b[43mmy_list\u001b[49m\u001b[38;5;241;43m.\u001b[39;49m\u001b[43mindex\u001b[49m\u001b[43m(\u001b[49m\u001b[38;5;241;43m2\u001b[39;49m\u001b[43m)\u001b[49m\n\u001b[1;32m     29\u001b[0m my_list\u001b[38;5;241m.\u001b[39minsert(\u001b[38;5;241m1\u001b[39m,\u001b[38;5;241m3\u001b[39m)\n\u001b[1;32m     31\u001b[0m element \u001b[38;5;241m=\u001b[39m my_list\u001b[38;5;241m.\u001b[39mpop(\u001b[38;5;241m1\u001b[39m)\n",
      "\u001b[0;31mValueError\u001b[0m: 2 is not in list"
     ]
    }
   ],
   "source": [
    "my_list = [1, 2, 3]\n",
    "len(my_list)\n",
    "min(my_list)\n",
    "max(my_list)\n",
    "sorted(my_list)\n",
    "\n",
    "for item in reversed(my_list):\n",
    "    print(item)\n",
    "\n",
    "if 1 in my_list:\n",
    "    print(\"Element exists\")\n",
    "\n",
    "if 5 not in my_list:\n",
    "    print(\"Element does not exist\")\n",
    "\n",
    "my_list.append(4)\n",
    "my_list.clear()\n",
    "\n",
    "new_list = my_list.copy()\n",
    "new_list.append(5)\n",
    "print(list, new_list)\n",
    "\n",
    "my_list.count(1)\n",
    "\n",
    "my_list.extend([6,7])\n",
    "\n",
    "my_list.index(2)\n",
    "\n",
    "my_list.insert(1,3)\n",
    "\n",
    "element = my_list.pop(1)\n",
    "print(element, my_list)\n",
    "\n",
    "my_list.remove(2)\n",
    "\n",
    "my_list.reverse()\n",
    "\n",
    "my_list.sort()\n",
    "\n",
    "nlist = list(\"abc\")\n",
    "print(nlist)\n",
    "\n",
    "# all([True, True, True]) = True\n",
    "# any([False, True, False])"
   ]
  },
  {
   "cell_type": "markdown",
   "metadata": {},
   "source": [
    "### List Comprehension"
   ]
  },
  {
   "cell_type": "code",
   "execution_count": null,
   "metadata": {},
   "outputs": [
    {
     "name": "stdout",
     "output_type": "stream",
     "text": [
      "Time using the list_comprehension: 0.0475461483001709 sec\n",
      "Time using the list_comprehension: 0.0644690990447998 sec\n",
      "Difference in time: 35.59268489592474%\n"
     ]
    }
   ],
   "source": [
    "import time\n",
    "\n",
    "list_comp_start_time = time.time()\n",
    "result = [i * i for i in range(0, 1000000)]\n",
    "list_comp_end_time = time.time()\n",
    "print(\"Time using the list_comprehension: {} sec\".format(list_comp_end_time - list_comp_start_time))\n",
    "\n",
    "# For loop\n",
    "for_loop_start_time = time.time()\n",
    "result = []\n",
    "for i in range(0, 1000000):\n",
    "    result.append(i*i)\n",
    "for_loop_end_time = time.time()\n",
    "print(\"Time using the list_comprehension: {} sec\".format(for_loop_end_time - for_loop_start_time))\n",
    "\n",
    "list_comp_time = list_comp_end_time - list_comp_start_time\n",
    "for_loop_time = for_loop_end_time - for_loop_start_time\n",
    "\n",
    "print(\"Difference in time: {}%\".format((for_loop_time - list_comp_time)/list_comp_time * 100))"
   ]
  },
  {
   "cell_type": "markdown",
   "metadata": {},
   "source": [
    "### Enumerate"
   ]
  },
  {
   "cell_type": "code",
   "execution_count": 16,
   "metadata": {},
   "outputs": [
    {
     "name": "stdout",
     "output_type": "stream",
     "text": [
      "0 apple\n",
      "1 banana\n",
      "2 cherry\n",
      "0 cherry\n",
      "1 banana\n",
      "2 apple\n",
      "2 cherry\n",
      "1 banana\n",
      "0 apple\n",
      "100 apple\n",
      "101 banana\n",
      "102 cherry\n"
     ]
    }
   ],
   "source": [
    "# Syntax\n",
    "# enumerate(iterable, start=0)\n",
    "# iterable  - any object that supports iteration\n",
    "# start     - the index value from which the counter is to be started, by default is 0\n",
    "\n",
    "fruits = ['apple','banana','cherry']\n",
    "\n",
    "# Enumerate a list\n",
    "for index, fruit in enumerate(fruits):\n",
    "    print(index, fruit)\n",
    "\n",
    "# Enumerate a reversed list, but the index does not reverse\n",
    "for index, fruit in enumerate(reversed(fruits)):\n",
    "    print(index, fruit)\n",
    "\n",
    "# Enumerate a reversed list with adjusted index\n",
    "for index, fruit in enumerate(reversed(fruits)):\n",
    "    print((len(fruits)-index)-1, fruit)\n",
    "\n",
    "# Enumerate with a custom start\n",
    "for index, fruit in enumerate(fruits, start=100):\n",
    "    print(index, fruit)"
   ]
  },
  {
   "cell_type": "code",
   "execution_count": 21,
   "metadata": {},
   "outputs": [
    {
     "name": "stdout",
     "output_type": "stream",
     "text": [
      "True\n",
      "False\n",
      "True\n"
     ]
    }
   ],
   "source": [
    "a = ['a','b','c']\n",
    "b = ['a','b','c']\n",
    "c = ['c','a','b']\n",
    "\n",
    "print(a == b)\n",
    "print(a == c)\n",
    "print([1,2,3] == [1,2,3])"
   ]
  },
  {
   "cell_type": "code",
   "execution_count": 26,
   "metadata": {},
   "outputs": [
    {
     "name": "stdout",
     "output_type": "stream",
     "text": [
      "[2, 4, 6, 8]\n",
      "2\n",
      "4\n",
      "6\n",
      "8\n"
     ]
    },
    {
     "ename": "TypeError",
     "evalue": "'int' object is not reversible",
     "output_type": "error",
     "traceback": [
      "\u001b[0;31m---------------------------------------------------------------------------\u001b[0m",
      "\u001b[0;31mTypeError\u001b[0m                                 Traceback (most recent call last)",
      "Cell \u001b[0;32mIn[26], line 7\u001b[0m\n\u001b[1;32m      4\u001b[0m \u001b[38;5;28;01mfor\u001b[39;00m a \u001b[38;5;129;01min\u001b[39;00m a:\n\u001b[1;32m      5\u001b[0m     \u001b[38;5;28mprint\u001b[39m(a)\n\u001b[0;32m----> 7\u001b[0m \u001b[38;5;28;01mfor\u001b[39;00m i \u001b[38;5;129;01min\u001b[39;00m \u001b[38;5;28;43mreversed\u001b[39;49m\u001b[43m(\u001b[49m\u001b[43ma\u001b[49m\u001b[43m)\u001b[49m:\n\u001b[1;32m      8\u001b[0m     \u001b[38;5;28mprint\u001b[39m(i)\n",
      "\u001b[0;31mTypeError\u001b[0m: 'int' object is not reversible"
     ]
    }
   ],
   "source": [
    "a = [2, 4, 6, 8]\n",
    "print(a)\n",
    "\n",
    "for a in a:\n",
    "    print(a)\n",
    "\n",
    "for i in reversed(a):\n",
    "    print(i)"
   ]
  }
 ],
 "metadata": {
  "kernelspec": {
   "display_name": "Python 3",
   "language": "python",
   "name": "python3"
  },
  "language_info": {
   "codemirror_mode": {
    "name": "ipython",
    "version": 3
   },
   "file_extension": ".py",
   "mimetype": "text/x-python",
   "name": "python",
   "nbconvert_exporter": "python",
   "pygments_lexer": "ipython3",
   "version": "3.12.1"
  }
 },
 "nbformat": 4,
 "nbformat_minor": 2
}
