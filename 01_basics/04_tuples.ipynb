{
 "cells": [
  {
   "cell_type": "markdown",
   "metadata": {},
   "source": [
    "## Tuples\n",
    "\n",
    "- A tuple is a collection of objects which ordered and immutable.\n",
    "- Tuples are sequences, just like lists. \n",
    "- The differences between tuples and lists are, the tuples cannot be changed unlike lists\n",
    "- Tuples use parentheses, whereas lists use square brackets"
   ]
  },
  {
   "cell_type": "code",
   "execution_count": 4,
   "metadata": {},
   "outputs": [
    {
     "name": "stdout",
     "output_type": "stream",
     "text": [
      "['Apple', 'Banana', 'Grapes', 'Cherry']\n",
      "Apple\n",
      "Cherry\n",
      "['Banana', 'Grapes']\n"
     ]
    }
   ],
   "source": [
    "Fruits = ['Apple', 'Banana', 'Grapes', 'Cherry']\n",
    "\n",
    "print(Fruits)\n",
    "\n",
    "# Accessing the Tuples\n",
    "\n",
    "print(Fruits[0])              #Index operator [] to access an item in a tuple, where the index starts from 0\n",
    "print(Fruits[-1])             #NEGATIVE Index: The index of -1 refers to the last item, -2 to the second last item\n",
    "print(Fruits[1:3])            # Slicing operator':' accesses the value within the index values."
   ]
  },
  {
   "cell_type": "markdown",
   "metadata": {},
   "source": [
    "### Changing a Tuple"
   ]
  },
  {
   "cell_type": "code",
   "execution_count": 5,
   "metadata": {},
   "outputs": [
    {
     "name": "stdout",
     "output_type": "stream",
     "text": [
      "Changing a Tuple\n",
      "Original : (2, 3, 3.5, [5, 6, 7])\n",
      "Updated: (2, 3, 3.5, [4, 6, 7])\n",
      "Concatenation\n",
      "('Dog', 'Cat')\n",
      "('kite', 'crow')\n",
      "('Dog', 'Cat', 'kite', 'crow')\n"
     ]
    }
   ],
   "source": [
    "# Changing a Tuple\n",
    "\n",
    "print(\"Changing a Tuple\")\n",
    "Tuple = (2,3,3.5,[5,6,7])\n",
    "print('Original :' , Tuple)               # append(),del(), remove() etc. functions CANNOT be used for a tuple\n",
    "Tuple [3][0] = 4\n",
    "print ('Updated:', Tuple)\n",
    "\n",
    "print(\"Concatenation\")                    # Use Plus(+) operator\n",
    "\n",
    "Animals = (\"Dog\", \"Cat\")\n",
    "print(Animals)\n",
    "Birds = (\"kite\", \"crow\")\n",
    "print(Birds)\n",
    "print(Animals + Birds)\n",
    "\n",
    "# Deleting a Tuple\n",
    "\n",
    "del(Animals)                               # Items in a Tuple cannot be deleted, however an entire tuple can be"
   ]
  },
  {
   "cell_type": "code",
   "execution_count": 6,
   "metadata": {},
   "outputs": [
    {
     "name": "stdout",
     "output_type": "stream",
     "text": [
      "a\n",
      "e\n",
      "i\n",
      "o\n",
      "u\n"
     ]
    }
   ],
   "source": [
    "# Loop Through a Tuple\n",
    "\n",
    "vowel = ('a', 'e', 'i', 'o', 'u')\n",
    "\n",
    "for item in vowel:                            # :\n",
    "    #do something\n",
    "    print(item)"
   ]
  }
 ],
 "metadata": {
  "kernelspec": {
   "display_name": "Python 3",
   "language": "python",
   "name": "python3"
  },
  "language_info": {
   "codemirror_mode": {
    "name": "ipython",
    "version": 3
   },
   "file_extension": ".py",
   "mimetype": "text/x-python",
   "name": "python",
   "nbconvert_exporter": "python",
   "pygments_lexer": "ipython3",
   "version": "3.12.1"
  }
 },
 "nbformat": 4,
 "nbformat_minor": 2
}
