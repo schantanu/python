{
 "cells": [
  {
   "cell_type": "code",
   "execution_count": 19,
   "metadata": {},
   "outputs": [
    {
     "name": "stdout",
     "output_type": "stream",
     "text": [
      "\n",
      "Dict: {},\n",
      "Length: 0,\n",
      "Type: <class 'dict'>\n",
      "\n"
     ]
    }
   ],
   "source": [
    "# Create an empty dictionary\n",
    "dict1 = {}                                          # Using curly braces\n",
    "dict2 = dict()                                      # Using dict object\n",
    "dict3 = {key: value for key, value in []}           # Using dictionary comprehension\n",
    "dict4: dict = {}                                    # Using type hinting\n",
    "\n",
    "print(f\"\"\"\n",
    "Dict: {dict1},\n",
    "Length: {len(dict1)},\n",
    "Type: {type(dict1)}\n",
    "\"\"\")"
   ]
  },
  {
   "cell_type": "markdown",
   "metadata": {},
   "source": [
    "### Dictionary Methods"
   ]
  },
  {
   "cell_type": "code",
   "execution_count": 47,
   "metadata": {},
   "outputs": [
    {
     "name": "stdout",
     "output_type": "stream",
     "text": [
      "dict_values(['Mario', 'Luigi', 'James'])\n",
      "dict_keys([0, 1, 2])\n",
      "James\n",
      "{0: 'Mario', 1: 'Luigi'}\n",
      "{0: 'Mario'}\n",
      "{0: ['a', 'b'], 1: ['c', 'd']}\n",
      "{0: ['a', 'b'], 1: ['c', 'd']}\n",
      "4427459328\n",
      "4426750016\n",
      "4427643200\n",
      "4427643200\n",
      "{0: ['AAA', 'b'], 1: ['CCC', 'd']}\n",
      "{0: ['AAA', 'b'], 1: ['CCC', 'd']}\n",
      "4427005504\n",
      "4427615936\n",
      "4427632512\n",
      "4427643456\n",
      "Luigi\n",
      "Luigi\n",
      "None\n",
      "Not Found\n",
      "Mario\n",
      "???\n",
      "{0: 'Mario', 1: 'Luigi', 2: 'James', 999: '???'}\n",
      "{}\n",
      "['Mario', 'Luigi', 'James']\n",
      "{'Mario': None, 'Luigi': None, 'James': None}\n",
      "{'Mario': 'Unknown', 'Luigi': 'Unknown', 'James': 'Unknown'}\n",
      "{'key1': 0, 'key2': 0, 'key3': 0}\n",
      "dict_items([(0, 'Mario'), (1, 'Luigi'), (2, 'James')])\n"
     ]
    }
   ],
   "source": [
    "# 1. values()\n",
    "# Shows only dictionary values, will be an iterable\n",
    "\n",
    "users: dict = {0:'Mario', 1:'Luigi', 2:'James'}\n",
    "print(users.values())\n",
    "\n",
    "# 2. keys()\n",
    "# Shows only keys, will be an iterable\n",
    "print(users.keys())\n",
    "\n",
    "# 3. pop()\n",
    "# Removes a specified key\n",
    "# Popped value can be stored in another variable\n",
    "popped: str = users.pop(2)\n",
    "print(popped)\n",
    "print(users)\n",
    "\n",
    "# Will give a KeyError if key does not exist\n",
    "# users.pop(3)\n",
    "\n",
    "# 4. popitem()\n",
    "# Pops the last item from the dictionary\n",
    "users.popitem()\n",
    "print(users)\n",
    "\n",
    "# Will give KeyError if popped multiple times and the dictionary is empty\n",
    "\n",
    "# 5. copy()\n",
    "sample_dict: dict = {0: ['a','b'], 1:['c','d']}\n",
    "sample_dict_copy: dict = sample_dict.copy()\n",
    "\n",
    "print(sample_dict)\n",
    "print(sample_dict_copy)\n",
    "\n",
    "# Both will have different ids\n",
    "print(id(sample_dict))\n",
    "print(id(sample_dict_copy))\n",
    "\n",
    "# Address for the element inside dict are pointing to the same id\n",
    "print(id(sample_dict[0]))\n",
    "print(id(sample_dict_copy[0]))\n",
    "\n",
    "# Although both the dictionaries are unique, they will still point at the same memory address\n",
    "sample_dict[0][0] = \"AAA\"\n",
    "sample_dict_copy[1][0] = \"CCC\"\n",
    "\n",
    "print(sample_dict)\n",
    "print(sample_dict_copy)\n",
    "\n",
    "# Create a deep copy\n",
    "\n",
    "from copy import deepcopy\n",
    "og_dict = {\"a\":[1, 2, 3], \"b\":[4, 5, 6]}\n",
    "nu_dict = deepcopy(og_dict)\n",
    "\n",
    "print(id(og_dict))\n",
    "print(id(nu_dict))\n",
    "print(id(og_dict[\"a\"]))\n",
    "print(id(nu_dict[\"a\"]))\n",
    "\n",
    "# 6. get()\n",
    "# Get key values, without getting key errors\n",
    "users: dict = {0:'Mario', 1:'Luigi', 2:'James'}\n",
    "\n",
    "print(users[1])\n",
    "print(users.get(1))\n",
    "\n",
    "# Will raise a key error\n",
    "# print(users[999])\n",
    "\n",
    "print(users.get(999))                   # Returns None\n",
    "print(users.get(999,'Not Found'))       # Returns 'Not Found'\n",
    "\n",
    "# 7. setdefault()\n",
    "users: dict = {0:'Mario', 1:'Luigi', 2:'James'}\n",
    "\n",
    "# Similar to the get method, but creates the key\n",
    "print(users.setdefault(0, '???'))\n",
    "print(users.setdefault(999, '???'))\n",
    "print(users)\n",
    "\n",
    "# 8. clear()\n",
    "# Removes everything from the dictionary\n",
    "users: dict = {0:'Mario', 1:'Luigi', 2:'James'}\n",
    "users.clear()\n",
    "print(users)\n",
    "\n",
    "# 9. fromkeys()\n",
    "people: list[str] = [\"Mario\",\"Luigi\",\"James\"]\n",
    "users: dict = dict.fromkeys(people)\n",
    "\n",
    "print(people)\n",
    "print(users)    # values by default will be zero\n",
    "\n",
    "users: dict = dict.fromkeys(people, \"Unknown\")  # Can set a default value\n",
    "print(users)\n",
    "\n",
    "x = (\"key1\", \"key2\", \"key3\")\n",
    "y = 0\n",
    "\n",
    "nu_dict = dict.fromkeys(x, y)\n",
    "print(nu_dict)\n",
    "\n",
    "# 10. items()\n",
    "users: dict = {0:\"Mario\", 1:\"Luigi\", 2:\"James\"}\n",
    "print(users.items())"
   ]
  },
  {
   "cell_type": "code",
   "execution_count": 52,
   "metadata": {},
   "outputs": [
    {
     "name": "stdout",
     "output_type": "stream",
     "text": [
      "dict_items([(0, 'Mario'), (1, 'Luigi'), (2, 'James')])\n",
      "(0, 'Mario')\n",
      "(1, 'Luigi')\n",
      "(2, 'James')\n",
      "Key: 0, Users: Mario\n",
      "Key: 1, Users: Luigi\n",
      "Key: 2, Users: James\n"
     ]
    }
   ],
   "source": [
    "# 10. items()\n",
    "# Gives us an iterable with key and value pairs\n",
    "users: dict = {0:\"Mario\", 1:\"Luigi\", 2:\"James\"}\n",
    "print(users.items())\n",
    "\n",
    "for u in users.items():\n",
    "    print(u)\n",
    "\n",
    "for k, v in users.items():\n",
    "    print(f\"Key: {k}, Users: {v}\")"
   ]
  },
  {
   "cell_type": "code",
   "execution_count": 57,
   "metadata": {},
   "outputs": [
    {
     "name": "stdout",
     "output_type": "stream",
     "text": [
      "{0: 'Mario', 1: 'Luigi', 2: 'Bob', 3: 'Jamie'}\n",
      "{0: 'Mario', 1: 'Luigi', 2: 'Bob', 3: 'Jamie', 10: 'Spam', 11: 'Eggs'}\n",
      "{0: 'Mario', 1: 'Luigi', 2: 'Bob', 3: 'Jamie', 10: 'Spam', 11: 'Eggs', 12: 'Cheese'}\n"
     ]
    }
   ],
   "source": [
    "# 11. update()\n",
    "# Update existing or add a new key\n",
    "\n",
    "users: dict = {0:\"Mario\", 1:\"Luigi\", 2:\"James\"}\n",
    "users.update({2: \"Bob\", 3: \"Jamie\"})\n",
    "print(users)\n",
    "\n",
    "# Using union operator\n",
    "users = users | {10: \"Spam\", 11: \"Eggs\"}\n",
    "print(users)\n",
    "\n",
    "# Another method using union operator\n",
    "# New syntax\n",
    "users |= {12: \"Cheese\"}\n",
    "print(users)"
   ]
  },
  {
   "cell_type": "code",
   "execution_count": 66,
   "metadata": {},
   "outputs": [
    {
     "name": "stdout",
     "output_type": "stream",
     "text": [
      "{'Bob': 102, 'James': 42, 'Sarah': 34, 'Tom': 504}\n",
      "dict_items([('Bob', 102), ('James', 42), ('Sarah', 34), ('Tom', 504)])\n",
      "[('Bob', 102), ('James', 42), ('Sarah', 34), ('Tom', 504)]\n",
      "[('Sarah', 34), ('James', 42), ('Bob', 102), ('Tom', 504)]\n",
      "<class 'list'>\n",
      "{'Sarah': 34, 'James': 42, 'Bob': 102, 'Tom': 504}\n",
      "{'Tom': 504, 'Bob': 102, 'James': 42, 'Sarah': 34}\n"
     ]
    }
   ],
   "source": [
    "# sort\n",
    "\n",
    "scores: dict[str, int] = {\"Bob\": 102, \"James\":42, \"Sarah\": 34, \"Tom\": 504}\n",
    "print(scores)\n",
    "print(scores.items())\n",
    "\n",
    "print(sorted(scores.items()))                           # Sorted by the key\n",
    "print(sorted(scores.items(), key=lambda x: x[1]))       # Sorted using lambda\n",
    "\n",
    "print(type(sorted(scores.items(), key=lambda x: x[1]))) # Sorted method converts it to list\n",
    "print(dict(sorted(scores.items(), key=lambda x: x[1]))) # Convert back to dict\n",
    "\n",
    "print(dict(sorted(scores.items(), key=lambda x: x[1], reverse=True)))   # Reversed\n"
   ]
  }
 ],
 "metadata": {
  "kernelspec": {
   "display_name": "Python 3",
   "language": "python",
   "name": "python3"
  },
  "language_info": {
   "codemirror_mode": {
    "name": "ipython",
    "version": 3
   },
   "file_extension": ".py",
   "mimetype": "text/x-python",
   "name": "python",
   "nbconvert_exporter": "python",
   "pygments_lexer": "ipython3",
   "version": "3.12.1"
  }
 },
 "nbformat": 4,
 "nbformat_minor": 2
}
