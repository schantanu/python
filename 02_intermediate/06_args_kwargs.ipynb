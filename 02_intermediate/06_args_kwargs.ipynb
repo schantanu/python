{
 "metadata": {
  "language_info": {
   "codemirror_mode": {
    "name": "ipython",
    "version": 3
   },
   "file_extension": ".py",
   "mimetype": "text/x-python",
   "name": "python",
   "nbconvert_exporter": "python",
   "pygments_lexer": "ipython3",
   "version": "3.7.0-final"
  },
  "orig_nbformat": 2,
  "kernelspec": {
   "name": "python_defaultSpec_1599862438472",
   "display_name": "Python 3.6.4 64-bit"
  }
 },
 "nbformat": 4,
 "nbformat_minor": 2,
 "cells": [
  {
   "cell_type": "markdown",
   "metadata": {},
   "source": [
    "# Unpacking and Packing"
   ]
  },
  {
   "cell_type": "code",
   "execution_count": 1,
   "metadata": {
    "tags": []
   },
   "outputs": [
    {
     "output_type": "stream",
     "name": "stdout",
     "text": "10\n10\n"
    }
   ],
   "source": [
    "def add_nums(a, b, c, d):\n",
    "    print(a + b + c + d)\n",
    "\n",
    "add_nums(1, 2, 3, 4)\n",
    "\n",
    "# Feeding a list\n",
    "my_list = [1, 2, 3, 4]\n",
    "# add_nums(my_list)\n",
    "\n",
    "# Feeding a list via unpacking\n",
    "add_nums(*my_list)"
   ]
  },
  {
   "cell_type": "code",
   "execution_count": 13,
   "metadata": {
    "tags": []
   },
   "outputs": [
    {
     "output_type": "stream",
     "name": "stdout",
     "text": "3\n4\n5\n"
    }
   ],
   "source": [
    "x = range(3, 6)\n",
    "\n",
    "for n in x:\n",
    "  print(n)\n",
    "\n",
    "my_list = [3, 6]\n",
    "\n",
    "y = range(*my_list)\n",
    "print(y)"
   ]
  },
  {
   "cell_type": "markdown",
   "metadata": {},
   "source": [
    "# *args and **kwargs\n",
    "- Allows you to pass an unspecified number of arguments to a function, allowing dynamism.\n",
    "- `*args` - Send a non-keyworded variable length argument list to the function.\n",
    "- `*kwargs` - "
   ]
  },
  {
   "cell_type": "code",
   "execution_count": 1,
   "metadata": {
    "tags": []
   },
   "outputs": [
    {
     "output_type": "stream",
     "name": "stdout",
     "text": "First Normal Arg: yasoob\nAnother arg through *args: python\nAnother arg through *args: eggs\nAnother arg through *args: test\n"
    }
   ],
   "source": [
    "# args\n",
    "\n",
    "def test_var_args(f_arg, *args):\n",
    "    print(\"First Normal Arg:\", f_arg)\n",
    "\n",
    "    for arg in args:\n",
    "        print(\"Another Arg through *args:\", arg)\n",
    "\n",
    "test_var_args('yasoob', 'python', 'eggs', 'test')"
   ]
  },
  {
   "cell_type": "code",
   "execution_count": 2,
   "metadata": {
    "tags": []
   },
   "outputs": [
    {
     "output_type": "stream",
     "name": "stdout",
     "text": "name = yasoob\ntype = stuff\n"
    }
   ],
   "source": [
    "# **kwargs\n",
    "\n",
    "def greet_me(**kwargs):\n",
    "    for key, value in kwargs.items():\n",
    "        print(\"{0} = {1}\".format(key, value))\n",
    "\n",
    "greet_me(name=\"yasoob\", type=\"stuff\")"
   ]
  },
  {
   "cell_type": "code",
   "execution_count": null,
   "metadata": {},
   "outputs": [],
   "source": [
    "# Using all three together\n",
    "\n",
    "some_func(fargs, *args, **kwargs):"
   ]
  }
 ]
}