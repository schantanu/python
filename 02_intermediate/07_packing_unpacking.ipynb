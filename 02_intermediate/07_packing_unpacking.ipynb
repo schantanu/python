{
 "cells": [
  {
   "cell_type": "markdown",
   "metadata": {},
   "source": [
    "# List Destructuring\n",
    "- You can split an iterable into values using the \"unpacking\" syntax\n",
    "- Also known as, Packing and Unpacking"
   ]
  },
  {
   "cell_type": "code",
   "execution_count": null,
   "metadata": {
    "tags": []
   },
   "outputs": [],
   "source": [
    "# Destructuring as Values\n",
    "a, b = (1, 2)\n",
    "print(a, b)\n",
    "\n",
    "# Following will throw an error\n",
    "# ValueError: not enough values to unpack (expected 3, got 1)\n",
    "a, b, c = [1]"
   ]
  },
  {
   "cell_type": "code",
   "execution_count": 3,
   "metadata": {
    "tags": []
   },
   "outputs": [
    {
     "name": "stdout",
     "output_type": "stream",
     "text": [
      "1 [2, 3, 4, 5]\n",
      "<class 'int'> <class 'list'>\n",
      "1 [2, 3, 4, 5]\n",
      "1 2 [3, 4] 5\n"
     ]
    }
   ],
   "source": [
    "# Destructuring as List\n",
    "head, *tail = [1, 2, 3, 4, 5]\n",
    "print(head, tail)\n",
    "print(type(head), type(tail))\n",
    "\n",
    "# Equivalent to\n",
    "lst = [1, 2, 3, 4, 5]\n",
    "head = lst[0]\n",
    "tail = lst[1:]\n",
    "print(head, tail)\n",
    "\n",
    "a, b, *other, z = [1, 2, 3, 4, 5]\n",
    "print(a, b, other, z)"
   ]
  },
  {
   "cell_type": "code",
   "execution_count": 4,
   "metadata": {
    "tags": []
   },
   "outputs": [
    {
     "name": "stdout",
     "output_type": "stream",
     "text": [
      "1 2\n",
      "1\n",
      "1 3 5\n"
     ]
    }
   ],
   "source": [
    "# Ignoring values in Destructuring\n",
    "a, _ = [1, 2]\n",
    "print(a, _)\n",
    "\n",
    "a, *_ = [1, 2, 3, 4, 5]\n",
    "print(a)\n",
    "\n",
    "a, _, b, _, c, *_ = [1, 2, 3, 4, 5, 6]\n",
    "print(a, b, c)"
   ]
  }
 ],
 "metadata": {
  "kernelspec": {
   "display_name": "Python 3.6.4 64-bit",
   "name": "python_defaultSpec_1599791819637"
  },
  "language_info": {
   "codemirror_mode": {
    "name": "ipython",
    "version": 3
   },
   "file_extension": ".py",
   "mimetype": "text/x-python",
   "name": "python",
   "nbconvert_exporter": "python",
   "pygments_lexer": "ipython3",
   "version": "3.7.0-final"
  },
  "orig_nbformat": 2
 },
 "nbformat": 4,
 "nbformat_minor": 2
}
