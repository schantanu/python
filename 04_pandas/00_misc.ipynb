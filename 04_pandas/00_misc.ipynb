{
 "cells": [
  {
   "cell_type": "code",
   "execution_count": 1,
   "metadata": {},
   "outputs": [
    {
     "name": "stdout",
     "output_type": "stream",
     "text": [
      "Summary of Changes:\n",
      "  Changed Columns fname lname  age\n",
      "0           lname  jane  smit   30\n",
      "1             age   kim   doe   30\n"
     ]
    }
   ],
   "source": [
    "import pandas as pd\n",
    "\n",
    "# Create DataFrames from the example data\n",
    "data1 = {'fname': ['john', 'jane', 'kim'],\n",
    "         'lname': ['smith', 'smith', 'doe'],\n",
    "         'age': [20, 30, 40]}\n",
    "\n",
    "data2 = {'fname': ['john', 'jane', 'kim'],\n",
    "         'lname': ['smith', 'smit', 'doe'],\n",
    "         'age': [20, 30, 30]}\n",
    "\n",
    "df1 = pd.DataFrame(data1)\n",
    "df2 = pd.DataFrame(data2)\n",
    "\n",
    "# Compare the two DataFrames and create a DataFrame showing differences\n",
    "diff_df = df1 != df2\n",
    "\n",
    "# Find the changed columns for each row\n",
    "changed_columns = diff_df.apply(lambda row: ', '.join(df1.columns[row]), axis=1)\n",
    "\n",
    "# Display the rows where differences exist along with the changed columns in a tabular format\n",
    "diff_rows = diff_df.any(axis=1)\n",
    "changed_data = df2[diff_rows]\n",
    "\n",
    "# Create a summary DataFrame\n",
    "summary_data = changed_data.copy()\n",
    "summary_data.insert(0, 'Changed Columns', changed_columns)\n",
    "\n",
    "# Reset the index for better display\n",
    "summary_data.reset_index(drop=True, inplace=True)\n",
    "\n",
    "# Print the summary table\n",
    "print(\"Summary of Changes:\")\n",
    "print(summary_data)"
   ]
  },
  {
   "cell_type": "code",
   "execution_count": 2,
   "metadata": {},
   "outputs": [
    {
     "name": "stdout",
     "output_type": "stream",
     "text": [
      "Result calculated in 2.002716064453125e-05 sec\n"
     ]
    }
   ],
   "source": [
    "import time\n",
    "\n",
    "# time.time(): returns current time in seconds since 12:00am, January 1, 1970\n",
    "\n",
    "# Record time befor execution\n",
    "start_time = time.time()\n",
    "\n",
    "# Execute operation\n",
    "results = 5 + 2 * 10000\n",
    "\n",
    "# Record time after execution\n",
    "end_time = time.time()\n",
    "\n",
    "print(\"Result calculated in {} sec\".format(end_time - start_time))"
   ]
  },
  {
   "cell_type": "code",
   "execution_count": 3,
   "metadata": {},
   "outputs": [
    {
     "name": "stdout",
     "output_type": "stream",
     "text": [
      "   amount  price\n",
      "0    1700   10.0\n",
      "1      12     20\n",
      "2     100  3,000\n",
      "3     -10   (40)\n",
      "   amount  price\n",
      "0    1700     10\n",
      "1      12     20\n",
      "2     100   3000\n",
      "3     -10    -40\n"
     ]
    }
   ],
   "source": [
    "import pandas as pd\n",
    "\n",
    "df = pd.DataFrame({\"amount\": [\"1700\",12,100.00,\"(10)\"],\n",
    "                   \"price\":  [10.00,20,\"3,000\",\"(40)\"]})\n",
    "\n",
    "# One column at a time\n",
    "df[\"amount\"] = df[\"amount\"].replace(\"[(]\",\"-\",regex=True)\\\n",
    "                           .replace(\"[)]\",\"\",regex=True)\\\n",
    "                           .replace(\",\",\"\",regex=True)\\\n",
    "                           .astype(int)\n",
    "print(df)\n",
    "\n",
    "# Using a lambda function\n",
    "num_conversion = lambda x: x.replace(\"[(]\",\"-\",regex=True)\\\n",
    "                            .replace(\"[)]\",\"\",regex=True)\\\n",
    "                            .replace(\",\",\"\",regex=True)\\\n",
    "                            .astype(int) if x.name in [\"amount\",\"price\"] else x\n",
    "\n",
    "df = df.apply(num_conversion)\n",
    "print(df)"
   ]
  },
  {
   "cell_type": "code",
   "execution_count": 24,
   "metadata": {},
   "outputs": [
    {
     "name": "stdout",
     "output_type": "stream",
     "text": [
      "   a    b    c\n",
      "0  A  1.0  4.0\n",
      "1  B  2.0  5.0\n",
      "2  C  3.0  6.0\n",
      "3  D  NaN  NaN\n",
      "   a    b    c\n",
      "0  A  1.0  4.0\n",
      "1  B  2.0  5.0\n",
      "2  C  3.0  6.0\n",
      "3  D  NaN  NaN\n",
      "   a    b    c\n",
      "0  A  1.0  4.0\n",
      "1  B  2.0  5.0\n",
      "2  C  3.0  6.0\n",
      "3  D  NaN  NaN\n"
     ]
    }
   ],
   "source": [
    "import pandas as pd\n",
    "import numpy as np\n",
    "\n",
    "df = pd.DataFrame({\"a\": [\"A\", \"B\", \"C\", \"D\"],\n",
    "                   \"b\": [10, 20, 30, np.NaN],\n",
    "                   \"c\": [40, 50, 60, np.NaN]})\n",
    "\n",
    "# Method 1\n",
    "df1 = df.copy()\n",
    "div = lambda x: (x / 10 if not np.isnan(x) else np.NaN)\n",
    "df1[[\"b\", \"c\"]] = df[[\"b\", \"c\"]].map(div)\n",
    "print(df1)\n",
    "\n",
    "# Method 2\n",
    "df2 = df.copy()\n",
    "div2 = lambda x: x/10 if x!=np.NaN else np.NaN\n",
    "df2[\"b\"] = df2[\"b\"].apply(div2)\n",
    "df2[\"c\"] = df2[\"c\"].apply(div2)\n",
    "print(df2)\n",
    "\n",
    "# Method 3\n",
    "df3 = df.copy()\n",
    "div3 = lambda x: x/10 if x!=np.NaN else np.NaN\n",
    "df3[[\"b\",\"c\"]] = df3[[\"b\",\"c\"]].map(div3)\n",
    "print(df3)"
   ]
  },
  {
   "cell_type": "code",
   "execution_count": 5,
   "metadata": {},
   "outputs": [
    {
     "name": "stdout",
     "output_type": "stream",
     "text": [
      "\n",
      "a:\n",
      "['A' 'B' 'C' 'D']\n",
      "\n",
      "b:\n",
      "[10. 20. 30. nan]\n",
      "\n",
      "c:\n",
      "[40. 50. 60. nan]\n"
     ]
    }
   ],
   "source": [
    "import pandas as pd\n",
    "import numpy as np\n",
    "\n",
    "df = pd.DataFrame({\"a\": [\"A\",\"B\",\"C\",\"D\"],\n",
    "                   \"b\": [10,20,30,np.NaN],\n",
    "                   \"c\": [40,50,60,np.NaN]})\n",
    "\n",
    "# Get Unique values from all columns\n",
    "for col in df:\n",
    "  print(f\"\\n{col}:\\n{df[col].unique()}\")"
   ]
  }
 ],
 "metadata": {
  "kernelspec": {
   "display_name": "Python 3",
   "language": "python",
   "name": "python3"
  },
  "language_info": {
   "codemirror_mode": {
    "name": "ipython",
    "version": 3
   },
   "file_extension": ".py",
   "mimetype": "text/x-python",
   "name": "python",
   "nbconvert_exporter": "python",
   "pygments_lexer": "ipython3",
   "version": "3.12.1"
  }
 },
 "nbformat": 4,
 "nbformat_minor": 2
}
