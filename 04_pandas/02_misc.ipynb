{
 "cells": [
  {
   "cell_type": "code",
   "execution_count": null,
   "metadata": {},
   "outputs": [],
   "source": [
    "import pandas as pd\n",
    "\n",
    "# Create DataFrames from the example data\n",
    "data1 = {'fname': ['john', 'jane', 'kim'],\n",
    "         'lname': ['smith', 'smith', 'doe'],\n",
    "         'age': [20, 30, 40]}\n",
    "\n",
    "data2 = {'fname': ['john', 'jane', 'kim'],\n",
    "         'lname': ['smith', 'smit', 'doe'],\n",
    "         'age': [20, 30, 30]}\n",
    "\n",
    "df1 = pd.DataFrame(data1)\n",
    "df2 = pd.DataFrame(data2)\n",
    "\n",
    "# Compare the two DataFrames and create a DataFrame showing differences\n",
    "diff_df = df1 != df2\n",
    "\n",
    "# Find the changed columns for each row\n",
    "changed_columns = diff_df.apply(lambda row: ', '.join(df1.columns[row]), axis=1)\n",
    "\n",
    "# Display the rows where differences exist along with the changed columns in a tabular format\n",
    "diff_rows = diff_df.any(axis=1)\n",
    "changed_data = df2[diff_rows]\n",
    "\n",
    "# Create a summary DataFrame\n",
    "summary_data = changed_data.copy()\n",
    "summary_data.insert(0, 'Changed Columns', changed_columns)\n",
    "\n",
    "# Reset the index for better display\n",
    "summary_data.reset_index(drop=True, inplace=True)\n",
    "\n",
    "# Print the summary table\n",
    "print(\"Summary of Changes:\")\n",
    "print(summary_data)"
   ]
  },
  {
   "cell_type": "code",
   "execution_count": null,
   "metadata": {},
   "outputs": [],
   "source": [
    "import time\n",
    "\n",
    "# time.time(): returns current time in seconds since 12:00am, January 1, 1970\n",
    "\n",
    "# Record time befor execution\n",
    "start_time = time.time()\n",
    "\n",
    "# Execute operation\n",
    "results = 5 + 2 * 10000\n",
    "\n",
    "# Record time after execution\n",
    "end_time = time.time()\n",
    "\n",
    "print(\"Result calculated in {} sec\".format(end_time - start_time))"
   ]
  }
 ],
 "metadata": {
  "language_info": {
   "name": "python"
  }
 },
 "nbformat": 4,
 "nbformat_minor": 2
}
